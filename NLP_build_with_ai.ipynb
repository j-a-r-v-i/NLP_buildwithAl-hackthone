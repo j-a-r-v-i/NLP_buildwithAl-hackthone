{
  "nbformat": 4,
  "nbformat_minor": 0,
  "metadata": {
    "colab": {
      "name": "NLP_build_with_ai.ipynb",
      "provenance": [],
      "collapsed_sections": [
        "oq4NCiWLcP0I",
        "HacJFhdvcUvs",
        "5sSYYZxQca4S",
        "0sNJMJRCctVT",
        "fXb24Fikc9Dx",
        "11TtoGTbzd8D",
        "hVgQTWfB1i3f",
        "_wGDCrWL2Vbi",
        "h8rERLi8-ZZO",
        "fPuQJRfvhkbZ",
        "BF58QfYDAU4o",
        "idWS3_0bNp9w",
        "3rA5dLlhRwBN",
        "nmH4dYEyWLsT",
        "P7ZAWhBOf37T",
        "vSroWZNJgL4d",
        "_JvtmrtNgdWZ"
      ],
      "include_colab_link": true
    },
    "kernelspec": {
      "name": "python3",
      "display_name": "Python 3"
    }
  },
  "cells": [
    {
      "cell_type": "markdown",
      "metadata": {
        "id": "view-in-github",
        "colab_type": "text"
      },
      "source": [
        "<a href=\"https://colab.research.google.com/github/j-a-r-v-i/NLP_buildwithAl-hackthone/blob/master/NLP_build_with_ai.ipynb\" target=\"_parent\"><img src=\"https://colab.research.google.com/assets/colab-badge.svg\" alt=\"Open In Colab\"/></a>"
      ]
    },
    {
      "cell_type": "markdown",
      "metadata": {
        "id": "oq4NCiWLcP0I",
        "colab_type": "text"
      },
      "source": [
        "# Importing the libraries"
      ]
    },
    {
      "cell_type": "code",
      "metadata": {
        "id": "6lOCeuluprSp",
        "colab_type": "code",
        "colab": {
          "base_uri": "https://localhost:8080/",
          "height": 214
        },
        "outputId": "edd3a69d-4158-4137-c3e2-37fe3d384695"
      },
      "source": [
        "import re\n",
        "import numpy as np\n",
        "import pandas as pd\n",
        "from pprint import pprint\n",
        "from datetime import datetime\n",
        "\n",
        "#plotting\n",
        "import matplotlib.pyplot as plt\n",
        "import seaborn as sns\n",
        "import plotly.express as px\n",
        "%matplotlib inline\n",
        "\n",
        "#word count\n",
        "from collections import Counter\n",
        "\n",
        "#word clouds\n",
        "import heapq\n",
        "from wordcloud import WordCloud, STOPWORDS\n",
        "from PIL import Image\n",
        "import collections\n",
        "import matplotlib.cm as cm\n",
        "from matplotlib import rcParams\n",
        "from tqdm import tqdm\n",
        "\n",
        "#sentiment analysis\n",
        "from textblob import TextBlob\n",
        "\n",
        "#text preprocessing\n",
        "from nltk.corpus import stopwords\n",
        "import nltk\n",
        "from nltk.stem import WordNetLemmatizer \n",
        "nltk.download('stopwords')\n",
        "nltk.download('wordnet')\n",
        "\n",
        "#hide warning\n",
        "import warnings\n",
        "warnings.filterwarnings(\"ignore\",category=DeprecationWarning)"
      ],
      "execution_count": null,
      "outputs": [
        {
          "output_type": "stream",
          "text": [
            "/usr/local/lib/python3.6/dist-packages/statsmodels/tools/_testing.py:19: FutureWarning: pandas.util.testing is deprecated. Use the functions in the public API at pandas.testing instead.\n",
            "  import pandas.util.testing as tm\n"
          ],
          "name": "stderr"
        },
        {
          "output_type": "stream",
          "text": [
            "[nltk_data] Downloading package stopwords to /root/nltk_data...\n",
            "[nltk_data]   Unzipping corpora/stopwords.zip.\n",
            "[nltk_data] Downloading package wordnet to /root/nltk_data...\n",
            "[nltk_data]   Unzipping corpora/wordnet.zip.\n",
            "[nltk_data] Downloading package stopwords to /root/nltk_data...\n",
            "[nltk_data]   Package stopwords is already up-to-date!\n",
            "[nltk_data] Downloading package wordnet to /root/nltk_data...\n",
            "[nltk_data]   Package wordnet is already up-to-date!\n"
          ],
          "name": "stdout"
        }
      ]
    },
    {
      "cell_type": "markdown",
      "metadata": {
        "id": "HacJFhdvcUvs",
        "colab_type": "text"
      },
      "source": [
        "# Uploading files on google colab"
      ]
    },
    {
      "cell_type": "code",
      "metadata": {
        "id": "n9Wt70EIo3Ey",
        "colab_type": "code",
        "colab": {
          "resources": {
            "http://localhost:8080/nbextensions/google.colab/files.js": {
              "data": "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",
              "ok": true,
              "headers": [
                [
                  "content-type",
                  "application/javascript"
                ]
              ],
              "status": 200,
              "status_text": ""
            }
          },
          "base_uri": "https://localhost:8080/",
          "height": 452
        },
        "outputId": "ab6cb805-249f-4301-ffb6-6ebc018c586a"
      },
      "source": [
        "import zipfile\n",
        "from google.colab import files\n",
        "uploaded = files.upload()"
      ],
      "execution_count": null,
      "outputs": [
        {
          "output_type": "display_data",
          "data": {
            "text/html": [
              "\n",
              "     <input type=\"file\" id=\"files-b1026d09-ef21-4b5f-92f4-7a766475b047\" name=\"files[]\" multiple disabled\n",
              "        style=\"border:none\" />\n",
              "     <output id=\"result-b1026d09-ef21-4b5f-92f4-7a766475b047\">\n",
              "      Upload widget is only available when the cell has been executed in the\n",
              "      current browser session. Please rerun this cell to enable.\n",
              "      </output>\n",
              "      <script src=\"/nbextensions/google.colab/files.js\"></script> "
            ],
            "text/plain": [
              "<IPython.core.display.HTML object>"
            ]
          },
          "metadata": {
            "tags": []
          }
        },
        {
          "output_type": "stream",
          "text": [
            "Saving alone (1).csv to alone (1).csv\n",
            "Saving fear.csv to fear.csv\n",
            "Saving loveyourself.csv to loveyourself.csv\n",
            "Saving mallet-2.0.8.zip to mallet-2.0.8.zip\n",
            "Saving meditation.csv to meditation.csv\n",
            "Saving mentalhealth.csv to mentalhealth.csv\n",
            "Saving panic.csv to panic.csv\n",
            "Saving positive.csv to positive.csv\n",
            "Saving sadness.csv to sadness.csv\n",
            "Saving smile.csv to smile.csv\n",
            "Saving stayhome.csv to stayhome.csv\n",
            "Saving suicide.xlsx to suicide.xlsx\n"
          ],
          "name": "stdout"
        }
      ]
    },
    {
      "cell_type": "markdown",
      "metadata": {
        "id": "5sSYYZxQca4S",
        "colab_type": "text"
      },
      "source": [
        "# Importing the dataset"
      ]
    },
    {
      "cell_type": "code",
      "metadata": {
        "id": "k388Ug4TpeGO",
        "colab_type": "code",
        "colab": {}
      },
      "source": [
        "import io\n",
        "df_fear = pd.read_csv(io.BytesIO(uploaded['fear.csv']))\n",
        "df_alone = pd.read_csv(io.BytesIO(uploaded['alone (1).csv']))\n",
        "df_meditation = pd.read_csv(io.BytesIO(uploaded['meditation.csv']))\n",
        "df_panic = pd.read_csv(io.BytesIO(uploaded['panic.csv']))\n",
        "df_suicide = pd.read_excel(io.BytesIO(uploaded['suicide.xlsx']))\n",
        "df_sadness = pd.read_csv(io.BytesIO(uploaded['sadness.csv']))\n",
        "df_smile= pd.read_csv(io.BytesIO(uploaded['smile.csv']))\n",
        "df_stayhome= pd.read_csv(io.BytesIO(uploaded['stayhome.csv']))\n",
        "df_positive= pd.read_csv(io.BytesIO(uploaded['positive.csv']))\n",
        "df_mentalhealth= pd.read_csv(io.BytesIO(uploaded['mentalhealth.csv']))\n",
        "df_panic= pd.read_csv(io.BytesIO(uploaded['panic.csv']))\n",
        "df_loveyourself= pd.read_csv(io.BytesIO(uploaded['panic.csv']))\n",
        "\n"
      ],
      "execution_count": null,
      "outputs": []
    },
    {
      "cell_type": "code",
      "metadata": {
        "id": "rYZsRGC4pw_7",
        "colab_type": "code",
        "colab": {
          "base_uri": "https://localhost:8080/",
          "height": 197
        },
        "outputId": "31342f03-0d89-4f3d-d9c8-4aa8fe139dc4"
      },
      "source": [
        "df_fear.head()\n"
      ],
      "execution_count": null,
      "outputs": [
        {
          "output_type": "execute_result",
          "data": {
            "text/html": [
              "<div>\n",
              "<style scoped>\n",
              "    .dataframe tbody tr th:only-of-type {\n",
              "        vertical-align: middle;\n",
              "    }\n",
              "\n",
              "    .dataframe tbody tr th {\n",
              "        vertical-align: top;\n",
              "    }\n",
              "\n",
              "    .dataframe thead th {\n",
              "        text-align: right;\n",
              "    }\n",
              "</style>\n",
              "<table border=\"1\" class=\"dataframe\">\n",
              "  <thead>\n",
              "    <tr style=\"text-align: right;\">\n",
              "      <th></th>\n",
              "      <th>User</th>\n",
              "      <th>Text</th>\n",
              "      <th>Date</th>\n",
              "      <th>Retweets</th>\n",
              "      <th>Favorites</th>\n",
              "      <th>HashTags</th>\n",
              "      <th>City</th>\n",
              "    </tr>\n",
              "  </thead>\n",
              "  <tbody>\n",
              "    <tr>\n",
              "      <th>0</th>\n",
              "      <td>michaelbarata</td>\n",
              "      <td>New Blog Post: True Connection #love #connecti...</td>\n",
              "      <td>2020-07-11 16:29:35+00:00</td>\n",
              "      <td>0</td>\n",
              "      <td>0</td>\n",
              "      <td>#love #connection #fear #lawofattraction</td>\n",
              "      <td>NY</td>\n",
              "    </tr>\n",
              "    <tr>\n",
              "      <th>1</th>\n",
              "      <td>fvnclothing</td>\n",
              "      <td>What’s “scary” are the ppl who project their f...</td>\n",
              "      <td>2020-07-07 16:34:08+00:00</td>\n",
              "      <td>0</td>\n",
              "      <td>0</td>\n",
              "      <td>#Enlightenment #fear #grateful #grateful #oppo...</td>\n",
              "      <td>NY</td>\n",
              "    </tr>\n",
              "    <tr>\n",
              "      <th>2</th>\n",
              "      <td>jourdaaa</td>\n",
              "      <td>JɆⱤⱤɎ ₵₳₦ A quiet mind is able to hear intuiti...</td>\n",
              "      <td>2020-07-07 02:34:40+00:00</td>\n",
              "      <td>0</td>\n",
              "      <td>1</td>\n",
              "      <td>#monday #sketch #drawing #tomandjerry #blue #c...</td>\n",
              "      <td>NY</td>\n",
              "    </tr>\n",
              "    <tr>\n",
              "      <th>3</th>\n",
              "      <td>BebitoToys</td>\n",
              "      <td>Some thoughts on fear... http://www.bebitotoys...</td>\n",
              "      <td>2020-07-06 20:05:05+00:00</td>\n",
              "      <td>0</td>\n",
              "      <td>0</td>\n",
              "      <td>#bebitoblog #fear #theseuncertaintimes</td>\n",
              "      <td>NY</td>\n",
              "    </tr>\n",
              "    <tr>\n",
              "      <th>4</th>\n",
              "      <td>leverage_cr</td>\n",
              "      <td>#UnitedWeCan do what every we must for our #ci...</td>\n",
              "      <td>2020-06-30 12:05:40+00:00</td>\n",
              "      <td>3</td>\n",
              "      <td>2</td>\n",
              "      <td>#UnitedWeCan #citizens #communities #country #...</td>\n",
              "      <td>NY</td>\n",
              "    </tr>\n",
              "  </tbody>\n",
              "</table>\n",
              "</div>"
            ],
            "text/plain": [
              "            User  ... City\n",
              "0  michaelbarata  ...   NY\n",
              "1    fvnclothing  ...   NY\n",
              "2       jourdaaa  ...   NY\n",
              "3     BebitoToys  ...   NY\n",
              "4    leverage_cr  ...   NY\n",
              "\n",
              "[5 rows x 7 columns]"
            ]
          },
          "metadata": {
            "tags": []
          },
          "execution_count": 123
        }
      ]
    },
    {
      "cell_type": "code",
      "metadata": {
        "id": "7ptWmxbFpywl",
        "colab_type": "code",
        "colab": {
          "base_uri": "https://localhost:8080/",
          "height": 197
        },
        "outputId": "fcb3b2c3-03d2-4446-9043-4dbfce6c9c64"
      },
      "source": [
        "df_alone.head()"
      ],
      "execution_count": null,
      "outputs": [
        {
          "output_type": "execute_result",
          "data": {
            "text/html": [
              "<div>\n",
              "<style scoped>\n",
              "    .dataframe tbody tr th:only-of-type {\n",
              "        vertical-align: middle;\n",
              "    }\n",
              "\n",
              "    .dataframe tbody tr th {\n",
              "        vertical-align: top;\n",
              "    }\n",
              "\n",
              "    .dataframe thead th {\n",
              "        text-align: right;\n",
              "    }\n",
              "</style>\n",
              "<table border=\"1\" class=\"dataframe\">\n",
              "  <thead>\n",
              "    <tr style=\"text-align: right;\">\n",
              "      <th></th>\n",
              "      <th>User</th>\n",
              "      <th>Text</th>\n",
              "      <th>Date</th>\n",
              "      <th>Retweets</th>\n",
              "      <th>Favorites</th>\n",
              "      <th>HashTags</th>\n",
              "      <th>City</th>\n",
              "    </tr>\n",
              "  </thead>\n",
              "  <tbody>\n",
              "    <tr>\n",
              "      <th>0</th>\n",
              "      <td>_TraceDollFace_</td>\n",
              "      <td>Oh a reunion heyyy #Alone</td>\n",
              "      <td>2020-07-11 19:43:21+00:00</td>\n",
              "      <td>0</td>\n",
              "      <td>0</td>\n",
              "      <td>#Alone</td>\n",
              "      <td>NY</td>\n",
              "    </tr>\n",
              "    <tr>\n",
              "      <th>1</th>\n",
              "      <td>_TraceDollFace_</td>\n",
              "      <td>When we get down to the winner...I'm crying by...</td>\n",
              "      <td>2020-07-11 19:34:19+00:00</td>\n",
              "      <td>0</td>\n",
              "      <td>0</td>\n",
              "      <td>#Alone</td>\n",
              "      <td>NY</td>\n",
              "    </tr>\n",
              "    <tr>\n",
              "      <th>2</th>\n",
              "      <td>_TraceDollFace_</td>\n",
              "      <td>So now they pulling you if you're in danger of...</td>\n",
              "      <td>2020-07-11 19:31:32+00:00</td>\n",
              "      <td>0</td>\n",
              "      <td>2</td>\n",
              "      <td>#Alone</td>\n",
              "      <td>NY</td>\n",
              "    </tr>\n",
              "    <tr>\n",
              "      <th>3</th>\n",
              "      <td>_TraceDollFace_</td>\n",
              "      <td>3 people left. Day 74 #Alone</td>\n",
              "      <td>2020-07-11 18:42:48+00:00</td>\n",
              "      <td>0</td>\n",
              "      <td>2</td>\n",
              "      <td>#Alone</td>\n",
              "      <td>NY</td>\n",
              "    </tr>\n",
              "    <tr>\n",
              "      <th>4</th>\n",
              "      <td>_TraceDollFace_</td>\n",
              "      <td>Tireder isn't a word #Alone</td>\n",
              "      <td>2020-07-11 18:40:02+00:00</td>\n",
              "      <td>0</td>\n",
              "      <td>0</td>\n",
              "      <td>#Alone</td>\n",
              "      <td>NY</td>\n",
              "    </tr>\n",
              "  </tbody>\n",
              "</table>\n",
              "</div>"
            ],
            "text/plain": [
              "              User  ... City\n",
              "0  _TraceDollFace_  ...   NY\n",
              "1  _TraceDollFace_  ...   NY\n",
              "2  _TraceDollFace_  ...   NY\n",
              "3  _TraceDollFace_  ...   NY\n",
              "4  _TraceDollFace_  ...   NY\n",
              "\n",
              "[5 rows x 7 columns]"
            ]
          },
          "metadata": {
            "tags": []
          },
          "execution_count": 124
        }
      ]
    },
    {
      "cell_type": "code",
      "metadata": {
        "id": "PCeBvsJTsKkv",
        "colab_type": "code",
        "colab": {
          "base_uri": "https://localhost:8080/",
          "height": 197
        },
        "outputId": "1dfb5d2d-6041-460d-ca7f-7d5527d12341"
      },
      "source": [
        "df_fear.head()"
      ],
      "execution_count": null,
      "outputs": [
        {
          "output_type": "execute_result",
          "data": {
            "text/html": [
              "<div>\n",
              "<style scoped>\n",
              "    .dataframe tbody tr th:only-of-type {\n",
              "        vertical-align: middle;\n",
              "    }\n",
              "\n",
              "    .dataframe tbody tr th {\n",
              "        vertical-align: top;\n",
              "    }\n",
              "\n",
              "    .dataframe thead th {\n",
              "        text-align: right;\n",
              "    }\n",
              "</style>\n",
              "<table border=\"1\" class=\"dataframe\">\n",
              "  <thead>\n",
              "    <tr style=\"text-align: right;\">\n",
              "      <th></th>\n",
              "      <th>User</th>\n",
              "      <th>Text</th>\n",
              "      <th>Date</th>\n",
              "      <th>Retweets</th>\n",
              "      <th>Favorites</th>\n",
              "      <th>HashTags</th>\n",
              "      <th>City</th>\n",
              "    </tr>\n",
              "  </thead>\n",
              "  <tbody>\n",
              "    <tr>\n",
              "      <th>0</th>\n",
              "      <td>michaelbarata</td>\n",
              "      <td>New Blog Post: True Connection #love #connecti...</td>\n",
              "      <td>2020-07-11 16:29:35+00:00</td>\n",
              "      <td>0</td>\n",
              "      <td>0</td>\n",
              "      <td>#love #connection #fear #lawofattraction</td>\n",
              "      <td>NY</td>\n",
              "    </tr>\n",
              "    <tr>\n",
              "      <th>1</th>\n",
              "      <td>fvnclothing</td>\n",
              "      <td>What’s “scary” are the ppl who project their f...</td>\n",
              "      <td>2020-07-07 16:34:08+00:00</td>\n",
              "      <td>0</td>\n",
              "      <td>0</td>\n",
              "      <td>#Enlightenment #fear #grateful #grateful #oppo...</td>\n",
              "      <td>NY</td>\n",
              "    </tr>\n",
              "    <tr>\n",
              "      <th>2</th>\n",
              "      <td>jourdaaa</td>\n",
              "      <td>JɆⱤⱤɎ ₵₳₦ A quiet mind is able to hear intuiti...</td>\n",
              "      <td>2020-07-07 02:34:40+00:00</td>\n",
              "      <td>0</td>\n",
              "      <td>1</td>\n",
              "      <td>#monday #sketch #drawing #tomandjerry #blue #c...</td>\n",
              "      <td>NY</td>\n",
              "    </tr>\n",
              "    <tr>\n",
              "      <th>3</th>\n",
              "      <td>BebitoToys</td>\n",
              "      <td>Some thoughts on fear... http://www.bebitotoys...</td>\n",
              "      <td>2020-07-06 20:05:05+00:00</td>\n",
              "      <td>0</td>\n",
              "      <td>0</td>\n",
              "      <td>#bebitoblog #fear #theseuncertaintimes</td>\n",
              "      <td>NY</td>\n",
              "    </tr>\n",
              "    <tr>\n",
              "      <th>4</th>\n",
              "      <td>leverage_cr</td>\n",
              "      <td>#UnitedWeCan do what every we must for our #ci...</td>\n",
              "      <td>2020-06-30 12:05:40+00:00</td>\n",
              "      <td>3</td>\n",
              "      <td>2</td>\n",
              "      <td>#UnitedWeCan #citizens #communities #country #...</td>\n",
              "      <td>NY</td>\n",
              "    </tr>\n",
              "  </tbody>\n",
              "</table>\n",
              "</div>"
            ],
            "text/plain": [
              "            User  ... City\n",
              "0  michaelbarata  ...   NY\n",
              "1    fvnclothing  ...   NY\n",
              "2       jourdaaa  ...   NY\n",
              "3     BebitoToys  ...   NY\n",
              "4    leverage_cr  ...   NY\n",
              "\n",
              "[5 rows x 7 columns]"
            ]
          },
          "metadata": {
            "tags": []
          },
          "execution_count": 125
        }
      ]
    },
    {
      "cell_type": "code",
      "metadata": {
        "id": "dJqtIaPosPvd",
        "colab_type": "code",
        "colab": {
          "base_uri": "https://localhost:8080/",
          "height": 197
        },
        "outputId": "0de1a1d7-59f6-4eed-d2a4-8bf3778b851c"
      },
      "source": [
        "df_panic.head()"
      ],
      "execution_count": null,
      "outputs": [
        {
          "output_type": "execute_result",
          "data": {
            "text/html": [
              "<div>\n",
              "<style scoped>\n",
              "    .dataframe tbody tr th:only-of-type {\n",
              "        vertical-align: middle;\n",
              "    }\n",
              "\n",
              "    .dataframe tbody tr th {\n",
              "        vertical-align: top;\n",
              "    }\n",
              "\n",
              "    .dataframe thead th {\n",
              "        text-align: right;\n",
              "    }\n",
              "</style>\n",
              "<table border=\"1\" class=\"dataframe\">\n",
              "  <thead>\n",
              "    <tr style=\"text-align: right;\">\n",
              "      <th></th>\n",
              "      <th>User</th>\n",
              "      <th>Text</th>\n",
              "      <th>Date</th>\n",
              "      <th>Retweets</th>\n",
              "      <th>Favorites</th>\n",
              "      <th>HashTags</th>\n",
              "      <th>City</th>\n",
              "    </tr>\n",
              "  </thead>\n",
              "  <tbody>\n",
              "    <tr>\n",
              "      <th>0</th>\n",
              "      <td>Moosekj25</td>\n",
              "      <td>Hey, so if Maxwell meets a premature end here ...</td>\n",
              "      <td>2020-07-10 13:34:46+00:00</td>\n",
              "      <td>0</td>\n",
              "      <td>0</td>\n",
              "      <td>#DeepStateCabal #PANIC</td>\n",
              "      <td>NY</td>\n",
              "    </tr>\n",
              "    <tr>\n",
              "      <th>1</th>\n",
              "      <td>fishonkikki</td>\n",
              "      <td>I hear ya. #badbussiness #gamestopfails @games...</td>\n",
              "      <td>2020-06-04 22:10:45+00:00</td>\n",
              "      <td>0</td>\n",
              "      <td>0</td>\n",
              "      <td>#badbussiness #gamestopfails #panic #preorders...</td>\n",
              "      <td>NY</td>\n",
              "    </tr>\n",
              "    <tr>\n",
              "      <th>2</th>\n",
              "      <td>Nikosak</td>\n",
              "      <td>#Police Sirens in the background. People hunke...</td>\n",
              "      <td>2020-06-02 03:25:18+00:00</td>\n",
              "      <td>0</td>\n",
              "      <td>1</td>\n",
              "      <td>#Police #panic #fear #pandemic #looters #Riote...</td>\n",
              "      <td>NY</td>\n",
              "    </tr>\n",
              "    <tr>\n",
              "      <th>3</th>\n",
              "      <td>Nikosak</td>\n",
              "      <td>NYC preparing for #Curfew. First time since #1...</td>\n",
              "      <td>2020-06-02 02:49:15+00:00</td>\n",
              "      <td>0</td>\n",
              "      <td>1</td>\n",
              "      <td>#Curfew #PANIC #Cuomo #BlackLivesMatter #Black...</td>\n",
              "      <td>NY</td>\n",
              "    </tr>\n",
              "    <tr>\n",
              "      <th>4</th>\n",
              "      <td>LaPerraShow</td>\n",
              "      <td>ARE YOU SERIOUS @realDonaldTrump?Is this the #...</td>\n",
              "      <td>2020-05-19 04:00:52+00:00</td>\n",
              "      <td>1</td>\n",
              "      <td>0</td>\n",
              "      <td>#best #FakeNews #TrumpAdministration #America ...</td>\n",
              "      <td>NY</td>\n",
              "    </tr>\n",
              "  </tbody>\n",
              "</table>\n",
              "</div>"
            ],
            "text/plain": [
              "          User  ... City\n",
              "0    Moosekj25  ...   NY\n",
              "1  fishonkikki  ...   NY\n",
              "2      Nikosak  ...   NY\n",
              "3      Nikosak  ...   NY\n",
              "4  LaPerraShow  ...   NY\n",
              "\n",
              "[5 rows x 7 columns]"
            ]
          },
          "metadata": {
            "tags": []
          },
          "execution_count": 126
        }
      ]
    },
    {
      "cell_type": "code",
      "metadata": {
        "id": "u_XNQt15sUSR",
        "colab_type": "code",
        "colab": {
          "base_uri": "https://localhost:8080/",
          "height": 197
        },
        "outputId": "01ba5687-153b-4821-d8b9-49f736026c62"
      },
      "source": [
        "df_suicide.head()"
      ],
      "execution_count": null,
      "outputs": [
        {
          "output_type": "execute_result",
          "data": {
            "text/html": [
              "<div>\n",
              "<style scoped>\n",
              "    .dataframe tbody tr th:only-of-type {\n",
              "        vertical-align: middle;\n",
              "    }\n",
              "\n",
              "    .dataframe tbody tr th {\n",
              "        vertical-align: top;\n",
              "    }\n",
              "\n",
              "    .dataframe thead th {\n",
              "        text-align: right;\n",
              "    }\n",
              "</style>\n",
              "<table border=\"1\" class=\"dataframe\">\n",
              "  <thead>\n",
              "    <tr style=\"text-align: right;\">\n",
              "      <th></th>\n",
              "      <th>User</th>\n",
              "      <th>Text</th>\n",
              "      <th>Date</th>\n",
              "      <th>Retweets</th>\n",
              "      <th>Favorites</th>\n",
              "      <th>HashTags</th>\n",
              "      <th>City</th>\n",
              "    </tr>\n",
              "  </thead>\n",
              "  <tbody>\n",
              "    <tr>\n",
              "      <th>0</th>\n",
              "      <td>MamaAlboranista</td>\n",
              "      <td>#Repost goldenrulewill ・・・ via @lovewillam_ #R...</td>\n",
              "      <td>2020-07-10 17:56:18+00:00</td>\n",
              "      <td>0</td>\n",
              "      <td>2</td>\n",
              "      <td>#Repost #Repost #suicideawarness #suicide #dep...</td>\n",
              "      <td>NY</td>\n",
              "    </tr>\n",
              "    <tr>\n",
              "      <th>1</th>\n",
              "      <td>BelvyBenjamin</td>\n",
              "      <td>#ghislainemaxwell #epsteindidntkillhimself #je...</td>\n",
              "      <td>2020-07-08 21:26:43+00:00</td>\n",
              "      <td>0</td>\n",
              "      <td>0</td>\n",
              "      <td>#ghislainemaxwell #epsteindidntkillhimself #je...</td>\n",
              "      <td>NY</td>\n",
              "    </tr>\n",
              "    <tr>\n",
              "      <th>2</th>\n",
              "      <td>BelvyBenjamin</td>\n",
              "      <td>#ghislainemaxwell #footage #epsteined #epstein...</td>\n",
              "      <td>2020-07-06 15:12:57+00:00</td>\n",
              "      <td>0</td>\n",
              "      <td>0</td>\n",
              "      <td>#ghislainemaxwell #footage #epsteined #epstein...</td>\n",
              "      <td>NY</td>\n",
              "    </tr>\n",
              "    <tr>\n",
              "      <th>3</th>\n",
              "      <td>BelvyBenjamin</td>\n",
              "      <td>#ghislainemaxwell #hillaryclinton #epsteined #...</td>\n",
              "      <td>2020-07-04 14:04:37+00:00</td>\n",
              "      <td>0</td>\n",
              "      <td>0</td>\n",
              "      <td>#ghislainemaxwell #hillaryclinton #epsteined #...</td>\n",
              "      <td>NY</td>\n",
              "    </tr>\n",
              "    <tr>\n",
              "      <th>4</th>\n",
              "      <td>BelvyBenjamin</td>\n",
              "      <td>#ghislainemaxwell #epsteined #epsteindidntkill...</td>\n",
              "      <td>2020-07-02 21:10:16+00:00</td>\n",
              "      <td>0</td>\n",
              "      <td>0</td>\n",
              "      <td>#ghislainemaxwell #epsteined #epsteindidntkill...</td>\n",
              "      <td>NY</td>\n",
              "    </tr>\n",
              "  </tbody>\n",
              "</table>\n",
              "</div>"
            ],
            "text/plain": [
              "              User  ... City\n",
              "0  MamaAlboranista  ...   NY\n",
              "1    BelvyBenjamin  ...   NY\n",
              "2    BelvyBenjamin  ...   NY\n",
              "3    BelvyBenjamin  ...   NY\n",
              "4    BelvyBenjamin  ...   NY\n",
              "\n",
              "[5 rows x 7 columns]"
            ]
          },
          "metadata": {
            "tags": []
          },
          "execution_count": 127
        }
      ]
    },
    {
      "cell_type": "code",
      "metadata": {
        "id": "lovXN2QQsX6t",
        "colab_type": "code",
        "colab": {
          "base_uri": "https://localhost:8080/",
          "height": 197
        },
        "outputId": "b8db39d7-0882-4dc5-cf99-4c3576525579"
      },
      "source": [
        "df_sadness.head()"
      ],
      "execution_count": null,
      "outputs": [
        {
          "output_type": "execute_result",
          "data": {
            "text/html": [
              "<div>\n",
              "<style scoped>\n",
              "    .dataframe tbody tr th:only-of-type {\n",
              "        vertical-align: middle;\n",
              "    }\n",
              "\n",
              "    .dataframe tbody tr th {\n",
              "        vertical-align: top;\n",
              "    }\n",
              "\n",
              "    .dataframe thead th {\n",
              "        text-align: right;\n",
              "    }\n",
              "</style>\n",
              "<table border=\"1\" class=\"dataframe\">\n",
              "  <thead>\n",
              "    <tr style=\"text-align: right;\">\n",
              "      <th></th>\n",
              "      <th>User</th>\n",
              "      <th>Text</th>\n",
              "      <th>Date</th>\n",
              "      <th>Retweets</th>\n",
              "      <th>Favorites</th>\n",
              "      <th>HashTags</th>\n",
              "      <th>City</th>\n",
              "    </tr>\n",
              "  </thead>\n",
              "  <tbody>\n",
              "    <tr>\n",
              "      <th>0</th>\n",
              "      <td>sackec</td>\n",
              "      <td>Couldn’t be more accurate! The MLS will now ha...</td>\n",
              "      <td>2020-07-01 12:42:16+00:00</td>\n",
              "      <td>0</td>\n",
              "      <td>0</td>\n",
              "      <td>#getoutofnyasfastasyoucan #sadness</td>\n",
              "      <td>NY</td>\n",
              "    </tr>\n",
              "    <tr>\n",
              "      <th>1</th>\n",
              "      <td>JohnnyQ2497</td>\n",
              "      <td>Disney and Pixar’s Inside Out was released in ...</td>\n",
              "      <td>2020-06-20 00:00:13+00:00</td>\n",
              "      <td>3</td>\n",
              "      <td>6</td>\n",
              "      <td>#InsideOut #Pixar #Joy #Sadness #Anger #Disgus...</td>\n",
              "      <td>NY</td>\n",
              "    </tr>\n",
              "    <tr>\n",
              "      <th>2</th>\n",
              "      <td>PrairiesDawn</td>\n",
              "      <td>Each of my tears have a name in it. #sadness</td>\n",
              "      <td>2020-06-14 15:56:39+00:00</td>\n",
              "      <td>0</td>\n",
              "      <td>1</td>\n",
              "      <td>#sadness</td>\n",
              "      <td>NY</td>\n",
              "    </tr>\n",
              "    <tr>\n",
              "      <th>3</th>\n",
              "      <td>leroe24fotos</td>\n",
              "      <td>Posted withregram • hurtingsouls This gave me ...</td>\n",
              "      <td>2020-06-03 21:18:24+00:00</td>\n",
              "      <td>0</td>\n",
              "      <td>0</td>\n",
              "      <td>#blacklivesmatter #blacklivesmatter #justicefo...</td>\n",
              "      <td>NY</td>\n",
              "    </tr>\n",
              "    <tr>\n",
              "      <th>4</th>\n",
              "      <td>coachantonionyc</td>\n",
              "      <td>My #amore CRISTI LUCAS LEONARDO #wearamask Cro...</td>\n",
              "      <td>2020-05-25 16:13:54+00:00</td>\n",
              "      <td>0</td>\n",
              "      <td>0</td>\n",
              "      <td>#amore #wearamask #queensborobridge #sundayfun...</td>\n",
              "      <td>NY</td>\n",
              "    </tr>\n",
              "  </tbody>\n",
              "</table>\n",
              "</div>"
            ],
            "text/plain": [
              "              User  ... City\n",
              "0           sackec  ...   NY\n",
              "1      JohnnyQ2497  ...   NY\n",
              "2     PrairiesDawn  ...   NY\n",
              "3     leroe24fotos  ...   NY\n",
              "4  coachantonionyc  ...   NY\n",
              "\n",
              "[5 rows x 7 columns]"
            ]
          },
          "metadata": {
            "tags": []
          },
          "execution_count": 128
        }
      ]
    },
    {
      "cell_type": "markdown",
      "metadata": {
        "id": "ftRsBCu-cmwx",
        "colab_type": "text"
      },
      "source": [
        "## shape of our input"
      ]
    },
    {
      "cell_type": "code",
      "metadata": {
        "id": "gyEKJVPDscFi",
        "colab_type": "code",
        "colab": {
          "base_uri": "https://localhost:8080/",
          "height": 212
        },
        "outputId": "bcf68c73-23e9-45d5-b4d6-f8318056384b"
      },
      "source": [
        "print(df_fear.shape)\n",
        "print(df_alone.shape)\n",
        "print(df_sadness.shape)\n",
        "print(df_suicide.shape)\n",
        "print(df_panic.shape)\n",
        "print(df_meditation.shape)\n",
        "print(df_loveyourself.shape)\n",
        "print(df_positive.shape)\n",
        "print(df_stayhome.shape)\n",
        "print(df_mentalhealth.shape)\n",
        "print(df_sadness.shape)"
      ],
      "execution_count": null,
      "outputs": [
        {
          "output_type": "stream",
          "text": [
            "(630, 7)\n",
            "(304, 7)\n",
            "(113, 7)\n",
            "(520, 7)\n",
            "(219, 7)\n",
            "(3051, 7)\n",
            "(219, 7)\n",
            "(1049, 7)\n",
            "(21287, 7)\n",
            "(14750, 7)\n",
            "(113, 7)\n"
          ],
          "name": "stdout"
        }
      ]
    },
    {
      "cell_type": "markdown",
      "metadata": {
        "id": "0sNJMJRCctVT",
        "colab_type": "text"
      },
      "source": [
        "# Merging all the dataset"
      ]
    },
    {
      "cell_type": "code",
      "metadata": {
        "id": "vvgEUDIEuTEn",
        "colab_type": "code",
        "colab": {}
      },
      "source": [
        "df= pd.concat([df_fear, df_alone,df_sadness,df_suicide,df_panic,df_meditation,df_loveyourself,df_positive,df_stayhome,df_mentalhealth,df_sadness])\n",
        "\n",
        "df['date'] = pd.to_datetime(df['Date']).dt.date\n",
        "df['time'] = pd.to_datetime(df['Date']).dt.time\n",
        "df['month_year'] = pd.to_datetime(df['Date']).dt.strftime('%Y-%m')\n",
        "\n"
      ],
      "execution_count": null,
      "outputs": []
    },
    {
      "cell_type": "code",
      "metadata": {
        "id": "amZieSBp7Hl9",
        "colab_type": "code",
        "colab": {}
      },
      "source": [
        "df=df.drop(['Date'],axis=1)"
      ],
      "execution_count": null,
      "outputs": []
    },
    {
      "cell_type": "code",
      "metadata": {
        "id": "KClQNnDgxt03",
        "colab_type": "code",
        "colab": {}
      },
      "source": [
        "# drop duplicate rows\n",
        "df.drop_duplicates(inplace =True)\n",
        "df.drop_duplicates(subset = ['Text'],inplace =True)"
      ],
      "execution_count": null,
      "outputs": []
    },
    {
      "cell_type": "code",
      "metadata": {
        "id": "j2EmDwQzx3Fz",
        "colab_type": "code",
        "colab": {
          "base_uri": "https://localhost:8080/",
          "height": 197
        },
        "outputId": "afff8d6c-da0f-4dd6-f4a7-3a711cc39487"
      },
      "source": [
        "df.head()"
      ],
      "execution_count": null,
      "outputs": [
        {
          "output_type": "execute_result",
          "data": {
            "text/html": [
              "<div>\n",
              "<style scoped>\n",
              "    .dataframe tbody tr th:only-of-type {\n",
              "        vertical-align: middle;\n",
              "    }\n",
              "\n",
              "    .dataframe tbody tr th {\n",
              "        vertical-align: top;\n",
              "    }\n",
              "\n",
              "    .dataframe thead th {\n",
              "        text-align: right;\n",
              "    }\n",
              "</style>\n",
              "<table border=\"1\" class=\"dataframe\">\n",
              "  <thead>\n",
              "    <tr style=\"text-align: right;\">\n",
              "      <th></th>\n",
              "      <th>User</th>\n",
              "      <th>Text</th>\n",
              "      <th>Retweets</th>\n",
              "      <th>Favorites</th>\n",
              "      <th>HashTags</th>\n",
              "      <th>City</th>\n",
              "      <th>date</th>\n",
              "      <th>time</th>\n",
              "      <th>month_year</th>\n",
              "    </tr>\n",
              "  </thead>\n",
              "  <tbody>\n",
              "    <tr>\n",
              "      <th>0</th>\n",
              "      <td>michaelbarata</td>\n",
              "      <td>New Blog Post: True Connection #love #connecti...</td>\n",
              "      <td>0</td>\n",
              "      <td>0</td>\n",
              "      <td>#love #connection #fear #lawofattraction</td>\n",
              "      <td>NY</td>\n",
              "      <td>2020-07-11</td>\n",
              "      <td>16:29:35</td>\n",
              "      <td>2020-07</td>\n",
              "    </tr>\n",
              "    <tr>\n",
              "      <th>1</th>\n",
              "      <td>fvnclothing</td>\n",
              "      <td>What’s “scary” are the ppl who project their f...</td>\n",
              "      <td>0</td>\n",
              "      <td>0</td>\n",
              "      <td>#Enlightenment #fear #grateful #grateful #oppo...</td>\n",
              "      <td>NY</td>\n",
              "      <td>2020-07-07</td>\n",
              "      <td>16:34:08</td>\n",
              "      <td>2020-07</td>\n",
              "    </tr>\n",
              "    <tr>\n",
              "      <th>2</th>\n",
              "      <td>jourdaaa</td>\n",
              "      <td>JɆⱤⱤɎ ₵₳₦ A quiet mind is able to hear intuiti...</td>\n",
              "      <td>0</td>\n",
              "      <td>1</td>\n",
              "      <td>#monday #sketch #drawing #tomandjerry #blue #c...</td>\n",
              "      <td>NY</td>\n",
              "      <td>2020-07-07</td>\n",
              "      <td>02:34:40</td>\n",
              "      <td>2020-07</td>\n",
              "    </tr>\n",
              "    <tr>\n",
              "      <th>3</th>\n",
              "      <td>BebitoToys</td>\n",
              "      <td>Some thoughts on fear... http://www.bebitotoys...</td>\n",
              "      <td>0</td>\n",
              "      <td>0</td>\n",
              "      <td>#bebitoblog #fear #theseuncertaintimes</td>\n",
              "      <td>NY</td>\n",
              "      <td>2020-07-06</td>\n",
              "      <td>20:05:05</td>\n",
              "      <td>2020-07</td>\n",
              "    </tr>\n",
              "    <tr>\n",
              "      <th>4</th>\n",
              "      <td>leverage_cr</td>\n",
              "      <td>#UnitedWeCan do what every we must for our #ci...</td>\n",
              "      <td>3</td>\n",
              "      <td>2</td>\n",
              "      <td>#UnitedWeCan #citizens #communities #country #...</td>\n",
              "      <td>NY</td>\n",
              "      <td>2020-06-30</td>\n",
              "      <td>12:05:40</td>\n",
              "      <td>2020-06</td>\n",
              "    </tr>\n",
              "  </tbody>\n",
              "</table>\n",
              "</div>"
            ],
            "text/plain": [
              "            User  ... month_year\n",
              "0  michaelbarata  ...    2020-07\n",
              "1    fvnclothing  ...    2020-07\n",
              "2       jourdaaa  ...    2020-07\n",
              "3     BebitoToys  ...    2020-07\n",
              "4    leverage_cr  ...    2020-06\n",
              "\n",
              "[5 rows x 9 columns]"
            ]
          },
          "metadata": {
            "tags": []
          },
          "execution_count": 179
        }
      ]
    },
    {
      "cell_type": "markdown",
      "metadata": {
        "id": "fXb24Fikc9Dx",
        "colab_type": "text"
      },
      "source": [
        "# EDA(Exploratory data analysis)"
      ]
    },
    {
      "cell_type": "code",
      "metadata": {
        "id": "Skjorn6pyGtk",
        "colab_type": "code",
        "colab": {
          "base_uri": "https://localhost:8080/",
          "height": 105
        },
        "outputId": "9b6cd03f-7683-4ad8-9cee-bae9c8de769a"
      },
      "source": [
        "print('shape:', df.shape)\n",
        "print('number of tweets:', df['Text'].nunique())\n",
        "print('number of users:', df['User'].nunique())\n",
        "\n",
        "print(\"range:\", df['date'].min(),\",\", df['date'].max())\n",
        "print(\"dates:\",df['date'].nunique())"
      ],
      "execution_count": null,
      "outputs": [
        {
          "output_type": "stream",
          "text": [
            "shape: (26455, 9)\n",
            "number of tweets: 26455\n",
            "number of users: 9784\n",
            "range: 2019-10-05 , 2020-07-11\n",
            "dates: 281\n"
          ],
          "name": "stdout"
        }
      ]
    },
    {
      "cell_type": "code",
      "metadata": {
        "id": "w7fB8oiMyL7B",
        "colab_type": "code",
        "colab": {
          "base_uri": "https://localhost:8080/",
          "height": 113
        },
        "outputId": "85ecad1d-5824-406b-8175-9ccec86f4344"
      },
      "source": [
        "def missing_values_table(df):\n",
        "        # Total missing values\n",
        "        mis_val = df.isnull().sum()\n",
        "        \n",
        "        # Percentage of missing values\n",
        "        mis_val_percent = 100 * df.isnull().sum() / len(df)\n",
        "        \n",
        "        # Make a table with the results\n",
        "        mis_val_table = pd.concat([mis_val, mis_val_percent], axis=1)\n",
        "        \n",
        "        # Rename the columns\n",
        "        mis_val_table_ren_columns = mis_val_table.rename(\n",
        "        columns = {0 : 'Missing Values', 1 : '% of Total Values'})\n",
        "        \n",
        "        # Sort the table by percentage of missing descending\n",
        "        mis_val_table_ren_columns = mis_val_table_ren_columns[\n",
        "            mis_val_table_ren_columns.iloc[:,1] != 0].sort_values(\n",
        "        '% of Total Values', ascending=False).round(1)\n",
        "        \n",
        "        # Print some summary information\n",
        "        print (\"Your selected dataframe has \" + str(df.shape[1]) + \" columns.\\n\"      \n",
        "            \"There are \" + str(mis_val_table_ren_columns.shape[0]) +\n",
        "              \" columns that have missing values.\")\n",
        "        \n",
        "        # Return the dataframe with missing information\n",
        "        return mis_val_table_ren_columns\n",
        "    \n",
        "missing_values_table(df)"
      ],
      "execution_count": null,
      "outputs": [
        {
          "output_type": "stream",
          "text": [
            "Your selected dataframe has 9 columns.\n",
            "There are 1 columns that have missing values.\n"
          ],
          "name": "stdout"
        },
        {
          "output_type": "execute_result",
          "data": {
            "text/html": [
              "<div>\n",
              "<style scoped>\n",
              "    .dataframe tbody tr th:only-of-type {\n",
              "        vertical-align: middle;\n",
              "    }\n",
              "\n",
              "    .dataframe tbody tr th {\n",
              "        vertical-align: top;\n",
              "    }\n",
              "\n",
              "    .dataframe thead th {\n",
              "        text-align: right;\n",
              "    }\n",
              "</style>\n",
              "<table border=\"1\" class=\"dataframe\">\n",
              "  <thead>\n",
              "    <tr style=\"text-align: right;\">\n",
              "      <th></th>\n",
              "      <th>Missing Values</th>\n",
              "      <th>% of Total Values</th>\n",
              "    </tr>\n",
              "  </thead>\n",
              "  <tbody>\n",
              "    <tr>\n",
              "      <th>HashTags</th>\n",
              "      <td>28</td>\n",
              "      <td>0.1</td>\n",
              "    </tr>\n",
              "  </tbody>\n",
              "</table>\n",
              "</div>"
            ],
            "text/plain": [
              "          Missing Values  % of Total Values\n",
              "HashTags              28                0.1"
            ]
          },
          "metadata": {
            "tags": []
          },
          "execution_count": 181
        }
      ]
    },
    {
      "cell_type": "code",
      "metadata": {
        "id": "natHFuFdyY19",
        "colab_type": "code",
        "colab": {
          "base_uri": "https://localhost:8080/",
          "height": 666
        },
        "outputId": "8a51cbc1-f8d3-4278-8ed5-ae5e13629d58"
      },
      "source": [
        "# plot number of tweets everyday\n",
        "fig = plt.figure(figsize = (10,10))\n",
        "chart = sns.countplot(df['month_year'], order = sorted(df['month_year'].unique()))\n",
        "chart.set_xticklabels(chart.get_xticklabels(), rotation=45)\n",
        "chart.set_title('Number of Tweets per month')"
      ],
      "execution_count": null,
      "outputs": [
        {
          "output_type": "execute_result",
          "data": {
            "text/plain": [
              "Text(0.5, 1.0, 'Number of Tweets per month')"
            ]
          },
          "metadata": {
            "tags": []
          },
          "execution_count": 182
        },
        {
          "output_type": "display_data",
          "data": {
            "image/png": "[encoded data removed]",
            "text/plain": [
              "<Figure size 720x720 with 1 Axes>"
            ]
          },
          "metadata": {
            "tags": [],
            "needs_background": "light"
          }
        }
      ]
    },
    {
      "cell_type": "code",
      "metadata": {
        "id": "ZnnKJc6Yv2EX",
        "colab_type": "code",
        "colab": {
          "base_uri": "https://localhost:8080/",
          "height": 961
        },
        "outputId": "b984fc81-6043-4087-a872-da8ed6f04ce9"
      },
      "source": [
        "fig_dims = (20,15)\n",
        "fig, ax = plt.subplots(figsize=fig_dims)\n",
        "chart=sns.countplot(df[\"City\"],palette='Set1',ax=ax)\n",
        "chart.set_xticklabels(chart.get_xticklabels(), rotation=45)\n",
        "chart.set_title('Number of Tweets per city')"
      ],
      "execution_count": null,
      "outputs": [
        {
          "output_type": "execute_result",
          "data": {
            "text/plain": [
              "Text(0.5, 1.0, 'Number of Tweets per city')"
            ]
          },
          "metadata": {
            "tags": []
          },
          "execution_count": 296
        },
        {
          "output_type": "display_data",
          "data": {
            "image/png": "[encoded data removed]",
            "text/plain": [
              "<Figure size 1440x1080 with 1 Axes>"
            ]
          },
          "metadata": {
            "tags": [],
            "needs_background": "light"
          }
        }
      ]
    },
    {
      "cell_type": "code",
      "metadata": {
        "id": "Bj9-bQ0pGI9-",
        "colab_type": "code",
        "colab": {
          "base_uri": "https://localhost:8080/",
          "height": 197
        },
        "outputId": "435fb562-2471-4775-b421-07ca392b637c"
      },
      "source": [
        "df.head()"
      ],
      "execution_count": null,
      "outputs": [
        {
          "output_type": "execute_result",
          "data": {
            "text/html": [
              "<div>\n",
              "<style scoped>\n",
              "    .dataframe tbody tr th:only-of-type {\n",
              "        vertical-align: middle;\n",
              "    }\n",
              "\n",
              "    .dataframe tbody tr th {\n",
              "        vertical-align: top;\n",
              "    }\n",
              "\n",
              "    .dataframe thead th {\n",
              "        text-align: right;\n",
              "    }\n",
              "</style>\n",
              "<table border=\"1\" class=\"dataframe\">\n",
              "  <thead>\n",
              "    <tr style=\"text-align: right;\">\n",
              "      <th></th>\n",
              "      <th>User</th>\n",
              "      <th>Text</th>\n",
              "      <th>Date</th>\n",
              "      <th>Retweets</th>\n",
              "      <th>Favorites</th>\n",
              "      <th>HashTags</th>\n",
              "      <th>City</th>\n",
              "      <th>date</th>\n",
              "      <th>time</th>\n",
              "    </tr>\n",
              "  </thead>\n",
              "  <tbody>\n",
              "    <tr>\n",
              "      <th>0</th>\n",
              "      <td>michaelbarata</td>\n",
              "      <td>New Blog Post: True Connection #love #connecti...</td>\n",
              "      <td>2020-07-11 16:29:35+00:00</td>\n",
              "      <td>0</td>\n",
              "      <td>0</td>\n",
              "      <td>#love #connection #fear #lawofattraction</td>\n",
              "      <td>NY</td>\n",
              "      <td>2020-07-11</td>\n",
              "      <td>16:29:35</td>\n",
              "    </tr>\n",
              "    <tr>\n",
              "      <th>1</th>\n",
              "      <td>fvnclothing</td>\n",
              "      <td>What’s “scary” are the ppl who project their f...</td>\n",
              "      <td>2020-07-07 16:34:08+00:00</td>\n",
              "      <td>0</td>\n",
              "      <td>0</td>\n",
              "      <td>#Enlightenment #fear #grateful #grateful #oppo...</td>\n",
              "      <td>NY</td>\n",
              "      <td>2020-07-07</td>\n",
              "      <td>16:34:08</td>\n",
              "    </tr>\n",
              "    <tr>\n",
              "      <th>2</th>\n",
              "      <td>jourdaaa</td>\n",
              "      <td>JɆⱤⱤɎ ₵₳₦ A quiet mind is able to hear intuiti...</td>\n",
              "      <td>2020-07-07 02:34:40+00:00</td>\n",
              "      <td>0</td>\n",
              "      <td>1</td>\n",
              "      <td>#monday #sketch #drawing #tomandjerry #blue #c...</td>\n",
              "      <td>NY</td>\n",
              "      <td>2020-07-07</td>\n",
              "      <td>02:34:40</td>\n",
              "    </tr>\n",
              "    <tr>\n",
              "      <th>3</th>\n",
              "      <td>BebitoToys</td>\n",
              "      <td>Some thoughts on fear... http://www.bebitotoys...</td>\n",
              "      <td>2020-07-06 20:05:05+00:00</td>\n",
              "      <td>0</td>\n",
              "      <td>0</td>\n",
              "      <td>#bebitoblog #fear #theseuncertaintimes</td>\n",
              "      <td>NY</td>\n",
              "      <td>2020-07-06</td>\n",
              "      <td>20:05:05</td>\n",
              "    </tr>\n",
              "    <tr>\n",
              "      <th>4</th>\n",
              "      <td>leverage_cr</td>\n",
              "      <td>#UnitedWeCan do what every we must for our #ci...</td>\n",
              "      <td>2020-06-30 12:05:40+00:00</td>\n",
              "      <td>3</td>\n",
              "      <td>2</td>\n",
              "      <td>#UnitedWeCan #citizens #communities #country #...</td>\n",
              "      <td>NY</td>\n",
              "      <td>2020-06-30</td>\n",
              "      <td>12:05:40</td>\n",
              "    </tr>\n",
              "  </tbody>\n",
              "</table>\n",
              "</div>"
            ],
            "text/plain": [
              "            User  ...      time\n",
              "0  michaelbarata  ...  16:29:35\n",
              "1    fvnclothing  ...  16:34:08\n",
              "2       jourdaaa  ...  02:34:40\n",
              "3     BebitoToys  ...  20:05:05\n",
              "4    leverage_cr  ...  12:05:40\n",
              "\n",
              "[5 rows x 9 columns]"
            ]
          },
          "metadata": {
            "tags": []
          },
          "execution_count": 169
        }
      ]
    },
    {
      "cell_type": "code",
      "metadata": {
        "id": "Pfra8534wpu9",
        "colab_type": "code",
        "colab": {
          "base_uri": "https://localhost:8080/",
          "height": 1000
        },
        "outputId": "65758c3d-4f1e-406f-e7c3-1c5e15bd41d4"
      },
      "source": [
        "# plot number of tweets everyday in each city \n",
        "pivot = pd.pivot_table(df, index=['City'],\n",
        "                         columns=['month_year'],\n",
        "                         values=['Text'], \n",
        "                         aggfunc = lambda x: len(x), \n",
        "                         fill_value=0)\n",
        "print(pivot)\n",
        "print(sorted(df['month_year'].unique()))\n",
        "\n",
        "fig= plt.figure(figsize = (20,15))\n",
        "plt.stackplot(sorted(df['month_year'].unique()), pivot.values, labels = pivot.index)\n",
        "ax = plt.gca()\n",
        "ax.set_xticks(sorted(df['month_year']))\n",
        "plt.xticks(rotation=45)\n",
        "plt.legend(loc='upper left')\n",
        "\n",
        "plt.title('Number of Tweets in Different Cities Groups across months')"
      ],
      "execution_count": null,
      "outputs": [
        {
          "output_type": "stream",
          "text": [
            "               Text                          ...                                \n",
            "month_year  2019-10 2019-11 2019-12 2020-01  ... 2020-04 2020-05 2020-06 2020-07\n",
            "City                                         ...                                \n",
            "BOSTON           61      54      51      52  ...     656     227      77      28\n",
            "CHARLOTTE         4       6       1       5  ...      10       3       2       0\n",
            "CHI              91      82      66     112  ...     932     323      90      49\n",
            "DETROIT          48      45      91      79  ...     252      80      72      23\n",
            "GEU              27      27      17      11  ...      13      12      13      19\n",
            "HOUSTON          84      87     139     121  ...     162     246     141      45\n",
            "LA              363     387     335     498  ...     503     463     339     153\n",
            "MIA             120     117     112     139  ...     109     150     121      43\n",
            "NEW ORLEANS       5       1       5       1  ...       5       3       6       1\n",
            "NEWARK          417     372     359     368  ...     232     318     319     110\n",
            "NOLA             18      19      16      21  ...      22      24      21      11\n",
            "NY              153     141     158     191  ...    4165    1521     446     176\n",
            "O-TOWN            3       9       8       7  ...       3      15      16       6\n",
            "PHIL            110     111     109     106  ...     105      97     152      62\n",
            "PHOENIX           5       3       6      13  ...       7       7      33       4\n",
            "SEATTLE          11       9       4       3  ...       8       5      18       5\n",
            "SJ               34      25      29      29  ...      23      38      23      19\n",
            "SPB              12      22      24      14  ...      31      26       6       2\n",
            "WA                8       8       6       5  ...      19       4      18       9\n",
            "\n",
            "[19 rows x 10 columns]\n",
            "['2019-10', '2019-11', '2019-12', '2020-01', '2020-02', '2020-03', '2020-04', '2020-05', '2020-06', '2020-07']\n"
          ],
          "name": "stdout"
        },
        {
          "output_type": "execute_result",
          "data": {
            "text/plain": [
              "Text(0.5, 1.0, 'Number of Tweets in Different Cities Groups across months')"
            ]
          },
          "metadata": {
            "tags": []
          },
          "execution_count": 184
        },
        {
          "output_type": "display_data",
          "data": {
            "image/png": "[encoded data removed]",
            "text/plain": [
              "<Figure size 1440x1080 with 1 Axes>"
            ]
          },
          "metadata": {
            "tags": [],
            "needs_background": "light"
          }
        }
      ]
    },
    {
      "cell_type": "code",
      "metadata": {
        "id": "fzRjMTM-zjFY",
        "colab_type": "code",
        "colab": {}
      },
      "source": [
        ""
      ],
      "execution_count": null,
      "outputs": []
    },
    {
      "cell_type": "code",
      "metadata": {
        "id": "vWiEl7Tiy-zC",
        "colab_type": "code",
        "colab": {}
      },
      "source": [
        "# extract data that doesn't contain NAs only\n",
        "df = df[df['HashTags'].notna()]"
      ],
      "execution_count": null,
      "outputs": []
    },
    {
      "cell_type": "markdown",
      "metadata": {
        "id": "11TtoGTbzd8D",
        "colab_type": "text"
      },
      "source": [
        "# TEXT PREPROCESSING"
      ]
    },
    {
      "cell_type": "code",
      "metadata": {
        "id": "BBhsBAH4zkVO",
        "colab_type": "code",
        "colab": {}
      },
      "source": [
        "# get rid of all kinds of strange symbols from text\n",
        "def preprocess(Text):\n",
        "    Text = Text.str.replace(\"(<br/>)\", \"\")\n",
        "    Text = Text.str.replace('(<a).*(>).*(</a>)', '')\n",
        "    Text = Text.str.replace('(&amp)', '')\n",
        "    Text = Text.str.replace('(&gt)', '')\n",
        "    Text = Text.str.replace('(&lt)', '')\n",
        "    Text = Text.str.replace('(\\xa0…)', ' ')  \n",
        "    Text = Text.str.replace('(\\n)', ' ')\n",
        "    Text = Text.str.replace('+', '')\n",
        "    return Text\n",
        "\n",
        "# remove urls from text\n",
        "def remove_urls(row):\n",
        "    url_pattern = re.compile(r\"https?://\\S+|www\\.\\S+\")\n",
        "    row =  url_pattern.sub(r'', row)\n",
        "    return row\n",
        "\n",
        "# remove @accounts (@[A-Za-z0–9]+)|, emojis，#hashtags, com frin text\n",
        "def removes(row):\n",
        "    url_pattern = re.compile(r\"(\\w+:\\/\\/\\S+)|(#(\\w+))|(.twitter.com/[A-Za-z0–9]+)\")\n",
        "    row =  url_pattern.sub(r'', row)\n",
        "    return row"
      ],
      "execution_count": null,
      "outputs": []
    },
    {
      "cell_type": "code",
      "metadata": {
        "id": "LvrB5aoO0xYb",
        "colab_type": "code",
        "colab": {}
      },
      "source": [
        "# apply all the preprocess functions\n",
        "df['text_nlp'] = preprocess(df.Text)\n",
        "df['text_nlp'] = df['text_nlp'].apply(remove_urls)\n",
        "df['text_nlp'] = df['text_nlp'].apply(removes)"
      ],
      "execution_count": null,
      "outputs": []
    },
    {
      "cell_type": "code",
      "metadata": {
        "id": "aj3ZzCnA012N",
        "colab_type": "code",
        "colab": {
          "base_uri": "https://localhost:8080/",
          "height": 176
        },
        "outputId": "35927f85-aeba-4a48-cda9-8c14ab31a06d"
      },
      "source": [
        "# text before preprocessing\n",
        "df.Text[5]"
      ],
      "execution_count": null,
      "outputs": [
        {
          "output_type": "execute_result",
          "data": {
            "text/plain": [
              "5    62 feels good. #reginaedelmanphoto #yoga #hand...\n",
              "5    Damn they told Dave he gotta go home. He had f...\n",
              "5    Crossing the #queensborobridge #sundayfunday w...\n",
              "5    Hope I don’t end up “#missing” or on a tree ha...\n",
              "5    What a couple of drama #queens only you leftis...\n",
              "5    Believe what your heart tells you, not what ot...\n",
              "5    Dear #God, I thank you for being born to #Rosa...\n",
              "5     GOING LIVE! 4PM-6PM TUNE IN TO @bedvynebrew f...\n",
              "Name: Text, dtype: object"
            ]
          },
          "metadata": {
            "tags": []
          },
          "execution_count": 188
        }
      ]
    },
    {
      "cell_type": "code",
      "metadata": {
        "id": "0F8qyToK04ao",
        "colab_type": "code",
        "colab": {
          "base_uri": "https://localhost:8080/",
          "height": 176
        },
        "outputId": "02f9fc92-7726-4085-831d-edbb4fe691b4"
      },
      "source": [
        "# text after preprocessing\n",
        "df.text_nlp[5]"
      ],
      "execution_count": null,
      "outputs": [
        {
          "output_type": "execute_result",
          "data": {
            "text/plain": [
              "5    62 feels good.                  @New York, New...\n",
              "5    Damn they told Dave he gotta go home. He had f...\n",
              "5    Crossing the   w the  after    3 hr  so much  ...\n",
              "5    Hope I don’t end up “” or on a tree hanging by...\n",
              "5    What a couple of drama  only you leftists sens...\n",
              "5    Believe what your heart tells you, not what ot...\n",
              "5    Dear , I thank you for being born to  and , on...\n",
              "5     GOING LIVE! 4PM-6PM TUNE IN TO @bedvynebrew f...\n",
              "Name: text_nlp, dtype: object"
            ]
          },
          "metadata": {
            "tags": []
          },
          "execution_count": 189
        }
      ]
    },
    {
      "cell_type": "code",
      "metadata": {
        "id": "ZQZcAdDj1DKc",
        "colab_type": "code",
        "colab": {}
      },
      "source": [
        "# Get the lenghth of text and word count\n",
        "df['text_len'] = df.text_nlp.astype(str).apply(len)\n",
        "df['word_count'] = df.text_nlp.apply(lambda x: len(str(x).split()))"
      ],
      "execution_count": null,
      "outputs": []
    },
    {
      "cell_type": "code",
      "metadata": {
        "id": "8oc6VA1z1JT5",
        "colab_type": "code",
        "colab": {}
      },
      "source": [
        "# Handling Abbreviation\n",
        "def decontracted(phrase):\n",
        "    phrase = re.sub(r\"that\\'s\", \"that is\", phrase)   \n",
        "    phrase = re.sub(r\"n\\'t\", \" not\", phrase)\n",
        "    phrase = re.sub(r\"\\'ve\", \" have\", phrase)\n",
        "    phrase = re.sub(r\"\\'re\", \" are\", phrase)\n",
        "    phrase = re.sub(r\"\\'d\", \" would\", phrase)\n",
        "    phrase = re.sub(r\"\\'ll\", \" will\", phrase)\n",
        "    phrase = re.sub(r\"\\'m\", \" am\", phrase)\n",
        "    return phrase\n",
        "\n",
        "# decontracte words\n",
        "df.text_nlp = df.text_nlp.apply(lambda x: decontracted(x).lower())"
      ],
      "execution_count": null,
      "outputs": []
    },
    {
      "cell_type": "code",
      "metadata": {
        "id": "VPAZYKsw1OzV",
        "colab_type": "code",
        "colab": {}
      },
      "source": [
        "# remove stop words\n",
        "stop_words = stopwords.words('english')\n",
        "not_stopwords = {}\n",
        "common_words =['com','twitter','please',\n",
        "               'the','would','could','can','may','must', \n",
        "              # 'us','i','you','this','we','me','that','it',\n",
        "               'de','s','pic','t','m','en','la','que','don','re','e','el','ca']\n",
        "stop_words.extend(word for word in common_words if word not in stop_words)\n",
        "final_stop_words = set([word for word in stop_words if word not in not_stopwords])\n",
        "df.text_nlp = df.text_nlp.apply(lambda x: ' '.join([word for word in x.split() if word not in final_stop_words]))"
      ],
      "execution_count": null,
      "outputs": []
    },
    {
      "cell_type": "code",
      "metadata": {
        "id": "gbCq2dNU1Tfd",
        "colab_type": "code",
        "colab": {}
      },
      "source": [
        "# remove whitespace and punctuations\n",
        "rm_punc = re.compile(r\"(\\W)\")\n",
        "rm_space = re.compile(r\"(\\s+)\")\n",
        "df.text_nlp = df.text_nlp.apply(lambda x: rm_punc.sub(' ', x))\n",
        "df.text_nlp = df.text_nlp.apply(lambda x: rm_space.sub(' ', x))"
      ],
      "execution_count": null,
      "outputs": []
    },
    {
      "cell_type": "code",
      "metadata": {
        "id": "TIO1lHOj1YRQ",
        "colab_type": "code",
        "colab": {
          "base_uri": "https://localhost:8080/",
          "height": 176
        },
        "outputId": "40488764-f891-459d-806a-8a76c1b3e86d"
      },
      "source": [
        "df.text_nlp[5]"
      ],
      "execution_count": null,
      "outputs": [
        {
          "output_type": "execute_result",
          "data": {
            "text/plain": [
              "5                      62 feels good new york new york\n",
              "5             damn told dave gotta go home food eating\n",
              "5    crossing w 3 hr much much time bridge without ...\n",
              "5             hope don t end tree hanging posted this \n",
              "5    couple drama leftists sensed panic one else di...\n",
              "5             believe heart tells you others tell you \n",
              "5                                     dear thank born \n",
              "5    going live 4pm 6pm tune bedvynebrew music djda...\n",
              "Name: text_nlp, dtype: object"
            ]
          },
          "metadata": {
            "tags": []
          },
          "execution_count": 194
        }
      ]
    },
    {
      "cell_type": "markdown",
      "metadata": {
        "id": "9bXV6e2A1fYy",
        "colab_type": "text"
      },
      "source": [
        ""
      ]
    },
    {
      "cell_type": "code",
      "metadata": {
        "id": "qtULuOq91dN2",
        "colab_type": "code",
        "colab": {}
      },
      "source": [
        ""
      ],
      "execution_count": null,
      "outputs": []
    },
    {
      "cell_type": "markdown",
      "metadata": {
        "id": "hVgQTWfB1i3f",
        "colab_type": "text"
      },
      "source": [
        "# **Sentiment Analysis**"
      ]
    },
    {
      "cell_type": "code",
      "metadata": {
        "id": "CoeY9vWj1hAe",
        "colab_type": "code",
        "colab": {
          "base_uri": "https://localhost:8080/",
          "height": 390
        },
        "outputId": "f9b89741-0080-4ada-cac7-127df8d2b912"
      },
      "source": [
        "# get the polarity of each text\n",
        "df['polarity'] = df.text_nlp.map(lambda text: TextBlob(text).sentiment.polarity)\n",
        "\n",
        "# classify sentiment into positive and negative ones\n",
        "df['sentiment'] = ''\n",
        "df['sentiment'][df['polarity'] > 0] = 'positive'\n",
        "df['sentiment'][df['polarity'] == 0] = 'neutral'\n",
        "df['sentiment'][df['polarity'] < 0] = 'negative'"
      ],
      "execution_count": null,
      "outputs": [
        {
          "output_type": "stream",
          "text": [
            "/usr/local/lib/python3.6/dist-packages/ipykernel_launcher.py:6: SettingWithCopyWarning:\n",
            "\n",
            "\n",
            "A value is trying to be set on a copy of a slice from a DataFrame\n",
            "\n",
            "See the caveats in the documentation: https://pandas.pydata.org/pandas-docs/stable/user_guide/indexing.html#returning-a-view-versus-a-copy\n",
            "\n",
            "/usr/local/lib/python3.6/dist-packages/ipykernel_launcher.py:7: SettingWithCopyWarning:\n",
            "\n",
            "\n",
            "A value is trying to be set on a copy of a slice from a DataFrame\n",
            "\n",
            "See the caveats in the documentation: https://pandas.pydata.org/pandas-docs/stable/user_guide/indexing.html#returning-a-view-versus-a-copy\n",
            "\n",
            "/usr/local/lib/python3.6/dist-packages/ipykernel_launcher.py:8: SettingWithCopyWarning:\n",
            "\n",
            "\n",
            "A value is trying to be set on a copy of a slice from a DataFrame\n",
            "\n",
            "See the caveats in the documentation: https://pandas.pydata.org/pandas-docs/stable/user_guide/indexing.html#returning-a-view-versus-a-copy\n",
            "\n"
          ],
          "name": "stderr"
        }
      ]
    },
    {
      "cell_type": "code",
      "metadata": {
        "id": "O9lWxZ3E1v1r",
        "colab_type": "code",
        "colab": {
          "base_uri": "https://localhost:8080/",
          "height": 367
        },
        "outputId": "7918762a-bef1-47dd-bc12-ecc13080e0e6"
      },
      "source": [
        "fig = plt.figure(figsize=(12,5))\n",
        "sns.distplot(df['polarity'],kde = False)\n",
        "plt.ylim(0, 1000)\n",
        "plt.title(\"distribution plot\")"
      ],
      "execution_count": null,
      "outputs": [
        {
          "output_type": "execute_result",
          "data": {
            "text/plain": [
              "Text(0.5, 1.0, 'distribution plot')"
            ]
          },
          "metadata": {
            "tags": []
          },
          "execution_count": 298
        },
        {
          "output_type": "display_data",
          "data": {
            "image/png": "[encoded data removed]",
            "text/plain": [
              "<Figure size 864x360 with 1 Axes>"
            ]
          },
          "metadata": {
            "tags": [],
            "needs_background": "light"
          }
        }
      ]
    },
    {
      "cell_type": "code",
      "metadata": {
        "id": "eEj2BLV-15kb",
        "colab_type": "code",
        "colab": {
          "base_uri": "https://localhost:8080/",
          "height": 638
        },
        "outputId": "a5d0c02b-75ad-48cd-8fa1-ffd7e664acfe"
      },
      "source": [
        "df[df['polarity']<-0.8]['Text']"
      ],
      "execution_count": null,
      "outputs": [
        {
          "output_type": "execute_result",
          "data": {
            "text/plain": [
              "19       There are 269,000 tons of plastic float in the...\n",
              "115      Being alone isn’t the worst case scenario but ...\n",
              "111      @LoriGrande3 #sadness that the world's biggest...\n",
              "117      #Suicide is a devastating reality among health...\n",
              "23       Make it so I don’t have to go to work, but the...\n",
              "1108     U Ever Notice #DonaldTrump Would Rather Point ...\n",
              "359       #Played all #day #time to #sleep with my #fav...\n",
              "289                          Disgusted. #stayhome #COVID19\n",
              "906      Those moves are looking insane!!! Mr. Galo’s h...\n",
              "1411     Therapy walk after another horrible night shif...\n",
              "2623     I’m honestly disgusted by the actions of these...\n",
              "3864     Just got a call from the doctor I work with......\n",
              "4488     Watch out! I’m vicious with the sanitizing spr...\n",
              "5357     If we lose 100,000 people that’s more than Kor...\n",
              "6081     This is terrifying!!! #NewYorkTough #StayHome ...\n",
              "6392     Thank you @CatSteadman for Something in the Wa...\n",
              "6556     As if things can’t be more sickening. #COVID19...\n",
              "7098      seriously. There some real evil people out th...\n",
              "7257     The Invisible Man what a movie but tho terrify...\n",
              "7940     My mask is here! Went for a funky color patter...\n",
              "8264     \"OHH,BELLA~DONNNAHH!!! NEVAHHH,KNEWW:THEPAiNN!...\n",
              "8623     \"EVERYBODY:PLAYS*THE*FOOL!! THERES:NO•EXCEPTiO...\n",
              "8695     Patient with #COVID19 in real bad condition. P...\n",
              "9469     Because retail sales took a sh*t the worst in ...\n",
              "10544    Shocking. I am just so shocked. Idiots! #COVID...\n",
              "10875    Thank you. I know you're trying. I know there ...\n",
              "10918    Days and hours are going like Boring test matc...\n",
              "11002    PSA: Please go to grocery store solo! The numb...\n",
              "11727    Legend-hell if 8 out of 10 hated you. Would yo...\n",
              "13483    Yesterday’s leg and abs session was brutal. Pu...\n",
              "18760    The worst conditions make a champion #thepassi...\n",
              "19493    Just wanted to give another shout out to @LAFi...\n",
              "3814     Kicked me off the field today . Guess what... ...\n",
              "3874     Chest day on Saturday was brutal. #bigguylittl...\n",
              "Name: Text, dtype: object"
            ]
          },
          "metadata": {
            "tags": []
          },
          "execution_count": 197
        }
      ]
    },
    {
      "cell_type": "code",
      "metadata": {
        "id": "9HPEC5k62Fdz",
        "colab_type": "code",
        "colab": {
          "base_uri": "https://localhost:8080/",
          "height": 105
        },
        "outputId": "8959b60e-7b26-4a67-dc0a-686fff5ab181"
      },
      "source": [
        "# Sentiment \n",
        "df.groupby('sentiment').Text.count()"
      ],
      "execution_count": null,
      "outputs": [
        {
          "output_type": "execute_result",
          "data": {
            "text/plain": [
              "sentiment\n",
              "negative     2912\n",
              "neutral     10313\n",
              "positive    13202\n",
              "Name: Text, dtype: int64"
            ]
          },
          "metadata": {
            "tags": []
          },
          "execution_count": 198
        }
      ]
    },
    {
      "cell_type": "code",
      "metadata": {
        "id": "uk7LGhpV2HTS",
        "colab_type": "code",
        "colab": {
          "base_uri": "https://localhost:8080/",
          "height": 373
        },
        "outputId": "3e8e9bdd-c95d-47f0-e8b6-daac262b2623"
      },
      "source": [
        "# draw a pie chart to show the ratio of 'Negative', 'Neutral' and 'Positive' tweets\n",
        "fig = plt.figure(figsize=(6,6))\n",
        "labels = 'Negative', 'Neutral', 'Positive'\n",
        "sizes = df.groupby('sentiment').Text.count().values\n",
        "colors = ['gold', 'lightcoral', 'lightskyblue']\n",
        "explode = (0.1, 0, 0) \n",
        "\n",
        "# Plot\n",
        "plt.pie(sizes, explode=explode, labels=labels, colors=colors,\n",
        "autopct='%1.2f%%', shadow=True, startangle=140)\n",
        "plt.title('The Proportion of Three Sentiments')\n",
        "plt.show()"
      ],
      "execution_count": null,
      "outputs": [
        {
          "output_type": "display_data",
          "data": {
            "image/png": "[encoded data removed]",
            "text/plain": [
              "<Figure size 432x432 with 1 Axes>"
            ]
          },
          "metadata": {
            "tags": []
          }
        }
      ]
    },
    {
      "cell_type": "code",
      "metadata": {
        "id": "z_Bc_Mm32LDP",
        "colab_type": "code",
        "colab": {
          "base_uri": "https://localhost:8080/",
          "height": 312
        },
        "outputId": "cbeaf3f0-6d17-4d39-8ad6-16cf2b02cd67"
      },
      "source": [
        "# plot sentiment fluctuation with date\n",
        "fig, ax1 = plt.subplots(figsize=(10,4))\n",
        "df.groupby(['date']).mean()['polarity'].plot(kind = 'line')\n",
        "plt.title('Average sentiment of Tweets across Dates')"
      ],
      "execution_count": null,
      "outputs": [
        {
          "output_type": "execute_result",
          "data": {
            "text/plain": [
              "Text(0.5, 1.0, 'Average sentiment of Tweets across Dates')"
            ]
          },
          "metadata": {
            "tags": []
          },
          "execution_count": 202
        },
        {
          "output_type": "display_data",
          "data": {
            "image/png": "[encoded data removed]",
            "text/plain": [
              "<Figure size 720x288 with 1 Axes>"
            ]
          },
          "metadata": {
            "tags": [],
            "needs_background": "light"
          }
        }
      ]
    },
    {
      "cell_type": "markdown",
      "metadata": {
        "id": "_wGDCrWL2Vbi",
        "colab_type": "text"
      },
      "source": [
        "# **Word Clouds**"
      ]
    },
    {
      "cell_type": "code",
      "metadata": {
        "id": "23ZRv_f62QNm",
        "colab_type": "code",
        "colab": {
          "base_uri": "https://localhost:8080/",
          "height": 34
        },
        "outputId": "c019afcb-7c2d-49d6-904e-f5e11227c6af"
      },
      "source": [
        "# Create word frequency count\n",
        "num_words = 300\n",
        "word2count = {}\n",
        "for i in tqdm(range(len(df['text_nlp']))): \n",
        "    for word in df['text_nlp'].iloc[i].split():\n",
        "        if word not in word2count.keys(): \n",
        "            word2count[word] = 1\n",
        "        else: \n",
        "            word2count[word] += 1\n",
        "            \n",
        "freq_words = heapq.nlargest(num_words, word2count, key=word2count.get)"
      ],
      "execution_count": null,
      "outputs": [
        {
          "output_type": "stream",
          "text": [
            "100%|██████████| 26427/26427 [00:00<00:00, 59638.34it/s]\n"
          ],
          "name": "stderr"
        }
      ]
    },
    {
      "cell_type": "code",
      "metadata": {
        "id": "YJwpRpsV3o9s",
        "colab_type": "code",
        "colab": {}
      },
      "source": [
        "from PIL import Image\n",
        "import requests\n",
        "from io import BytesIO\n",
        "\n"
      ],
      "execution_count": null,
      "outputs": []
    },
    {
      "cell_type": "code",
      "metadata": {
        "id": "9MQqMHkb2cn9",
        "colab_type": "code",
        "colab": {}
      },
      "source": [
        "from wordcloud import WordCloud, ImageColorGenerator\n",
        "from os import path, getcwd\n",
        "from PIL import Image\n",
        "d = getcwd()\n",
        "response = requests.get(\"https://swissmacuser.ch/wp-content/uploads/2015/09/Twitter_logo_blue.png\")\n",
        "mask = np.array(Image.open(BytesIO(response.content)).convert(\"RGB\"))\n",
        "response=requests.get(\"https://previews.123rf.com/images/taiga/taiga1601/taiga160100031/51501178-blue-matrix-abstract-binary-code-digital-background-big-size.jpg\")\n",
        "color = np.array(Image.open(BytesIO(response.content)).convert(\"RGB\"))\n",
        "\n",
        "def func(arr):   \n",
        "    if(arr[2]==0):\n",
        "        return np.array([255,255,255],dtype=\"uint8\")\n",
        "    else:\n",
        "        return arr\n",
        "\n",
        "mask=np.apply_along_axis(func, 2, mask)\n",
        "#color=np.apply_along_axis(func, 2, color)"
      ],
      "execution_count": null,
      "outputs": []
    },
    {
      "cell_type": "code",
      "metadata": {
        "id": "Ajo-oH267616",
        "colab_type": "code",
        "colab": {}
      },
      "source": [
        "add_stopwords = ['day','like','go','one','today','let','get',\n",
        " '2', '1','3','4','5','take','make','think','want','way',\n",
        "'see','still', 'via', 'now','much', 'even','watch','क',\n",
        " 'all','really','thing', 'every','around','here','made',\n",
        " 'also','part','total', 'things',  'little','getting',\n",
        " 'last','essential','long', 'another', 'look', 'next','there',\n",
        " 'people','time','new','thank','need','good','going','know',\n",
        " 'week','everyone','live','love','right','home','us','stay','re',\n",
        "'help', 'work', 'quarantine', 'life', 'keep', 'york', \"york'\", 'don']\n",
        "\n",
        "# Add meaningless words into stopwords\n",
        "for i in range(len(add_stopwords)):\n",
        "    STOPWORDS.add(add_stopwords[i])"
      ],
      "execution_count": null,
      "outputs": []
    },
    {
      "cell_type": "code",
      "metadata": {
        "id": "muIoGCUe9MQK",
        "colab_type": "code",
        "colab": {
          "base_uri": "https://localhost:8080/",
          "height": 541
        },
        "outputId": "99a8ede9-d0ee-4d4c-9952-54823ba8157a"
      },
      "source": [
        "wordcloud = WordCloud(width=600, height=500, random_state=1, max_words=num_words, \n",
        "                          min_font_size=10,  max_font_size=140,\n",
        "                          background_color='white',stopwords=set(STOPWORDS),mask = mask)\n",
        "wordcloud.generate(str(set(df['text_nlp'][df['sentiment'] == 'positive'])))\n",
        "    # declare our figure  \n",
        "image_colors = ImageColorGenerator(color)\n",
        "plt.figure(figsize=(10,9))\n",
        "plt.title(\"Word Clouds with Positive Polarity\", fontsize=20,color='#0000FF')\n",
        "plt.imshow(wordcloud, interpolation='bilinear')\n",
        "plt.imshow(wordcloud.recolor(color_func=image_colors), interpolation='None')\n",
        "plt.axis('off')\n",
        "plt.show()"
      ],
      "execution_count": null,
      "outputs": [
        {
          "output_type": "display_data",
          "data": {
            "image/png": "[encoded data removed]",
            "text/plain": [
              "<Figure size 720x648 with 1 Axes>"
            ]
          },
          "metadata": {
            "tags": [],
            "needs_background": "light"
          }
        }
      ]
    },
    {
      "cell_type": "code",
      "metadata": {
        "id": "tM5kGB449XHA",
        "colab_type": "code",
        "colab": {
          "base_uri": "https://localhost:8080/",
          "height": 34
        },
        "outputId": "f4432b75-d69f-4c54-9ebb-81092d6e112b"
      },
      "source": [
        "wordcloud.to_file('positive.png')"
      ],
      "execution_count": null,
      "outputs": [
        {
          "output_type": "execute_result",
          "data": {
            "text/plain": [
              "<wordcloud.wordcloud.WordCloud at 0x7fe3bda07550>"
            ]
          },
          "metadata": {
            "tags": []
          },
          "execution_count": 226
        }
      ]
    },
    {
      "cell_type": "code",
      "metadata": {
        "id": "SKvAC9hn9i3Q",
        "colab_type": "code",
        "colab": {}
      },
      "source": [
        "\n",
        "\n",
        "response=requests.get(\"https://images.pexels.com/photos/960137/pexels-photo-960137.jpeg?cs=srgb&dl=red-wooden-surface-960137.jpg&fm=jpg\")\n",
        "red = np.array(Image.open(BytesIO(response.content)).convert(\"RGB\"))\n",
        "red=np.apply_along_axis(func, 2, red)"
      ],
      "execution_count": null,
      "outputs": []
    },
    {
      "cell_type": "code",
      "metadata": {
        "id": "hRbtBea-9c0B",
        "colab_type": "code",
        "colab": {
          "base_uri": "https://localhost:8080/",
          "height": 541
        },
        "outputId": "f421518f-5265-4407-c40d-5509f5fe934e"
      },
      "source": [
        "wordcloud = WordCloud(width=600, height=500, random_state=1, max_words=num_words, \n",
        "                          min_font_size=10,  max_font_size=140,\n",
        "                          background_color='white', stopwords=set(STOPWORDS),mask = mask)\n",
        "wordcloud.generate(str(set(df['text_nlp'][df['sentiment'] == 'negative'])))\n",
        "    # declare our figure  \n",
        "image_colors = ImageColorGenerator(red)\n",
        "plt.figure(figsize=(10,9))\n",
        "plt.title(\"Word Clouds with negative Polarity\", fontsize=20,color='#DE2929')\n",
        "plt.imshow(wordcloud, interpolation='bilinear')\n",
        "plt.imshow(wordcloud.recolor(color_func=image_colors), interpolation='None')\n",
        "plt.axis('off')\n",
        "plt.show()"
      ],
      "execution_count": null,
      "outputs": [
        {
          "output_type": "display_data",
          "data": {
            "image/png": "[encoded data removed]",
            "text/plain": [
              "<Figure size 720x648 with 1 Axes>"
            ]
          },
          "metadata": {
            "tags": [],
            "needs_background": "light"
          }
        }
      ]
    },
    {
      "cell_type": "code",
      "metadata": {
        "id": "NRc4JZqv-TlB",
        "colab_type": "code",
        "colab": {
          "base_uri": "https://localhost:8080/",
          "height": 34
        },
        "outputId": "e3070ad8-867c-418c-ed00-6a462c14bfa0"
      },
      "source": [
        "wordcloud.to_file('negative.png')"
      ],
      "execution_count": null,
      "outputs": [
        {
          "output_type": "execute_result",
          "data": {
            "text/plain": [
              "<wordcloud.wordcloud.WordCloud at 0x7fe383b8fac8>"
            ]
          },
          "metadata": {
            "tags": []
          },
          "execution_count": 231
        }
      ]
    },
    {
      "cell_type": "markdown",
      "metadata": {
        "id": "h8rERLi8-ZZO",
        "colab_type": "text"
      },
      "source": [
        "# **Topic Modelling**\n"
      ]
    },
    {
      "cell_type": "markdown",
      "metadata": {
        "id": "fPuQJRfvhkbZ",
        "colab_type": "text"
      },
      "source": [
        "## preprocessing for Topic Modeling¶"
      ]
    },
    {
      "cell_type": "code",
      "metadata": {
        "id": "b9Dnfq_t_6X0",
        "colab_type": "code",
        "colab": {
          "base_uri": "https://localhost:8080/",
          "height": 390
        },
        "outputId": "2ae72293-c837-4e39-99c1-71b42de945c7"
      },
      "source": [
        "#Installing the libraries\n",
        "!pip install pyLDAvis"
      ],
      "execution_count": null,
      "outputs": [
        {
          "output_type": "stream",
          "text": [
            "Requirement already satisfied: pyLDAvis in /usr/local/lib/python3.6/dist-packages (2.1.2)\n",
            "Requirement already satisfied: wheel>=0.23.0 in /usr/local/lib/python3.6/dist-packages (from pyLDAvis) (0.34.2)\n",
            "Requirement already satisfied: jinja2>=2.7.2 in /usr/local/lib/python3.6/dist-packages (from pyLDAvis) (2.11.2)\n",
            "Requirement already satisfied: numexpr in /usr/local/lib/python3.6/dist-packages (from pyLDAvis) (2.7.1)\n",
            "Requirement already satisfied: numpy>=1.9.2 in /usr/local/lib/python3.6/dist-packages (from pyLDAvis) (1.18.5)\n",
            "Requirement already satisfied: pytest in /usr/local/lib/python3.6/dist-packages (from pyLDAvis) (3.6.4)\n",
            "Requirement already satisfied: pandas>=0.17.0 in /usr/local/lib/python3.6/dist-packages (from pyLDAvis) (1.0.5)\n",
            "Requirement already satisfied: future in /usr/local/lib/python3.6/dist-packages (from pyLDAvis) (0.16.0)\n",
            "Requirement already satisfied: funcy in /usr/local/lib/python3.6/dist-packages (from pyLDAvis) (1.14)\n",
            "Requirement already satisfied: joblib>=0.8.4 in /usr/local/lib/python3.6/dist-packages (from pyLDAvis) (0.16.0)\n",
            "Requirement already satisfied: scipy>=0.18.0 in /usr/local/lib/python3.6/dist-packages (from pyLDAvis) (1.4.1)\n",
            "Requirement already satisfied: MarkupSafe>=0.23 in /usr/local/lib/python3.6/dist-packages (from jinja2>=2.7.2->pyLDAvis) (1.1.1)\n",
            "Requirement already satisfied: atomicwrites>=1.0 in /usr/local/lib/python3.6/dist-packages (from pytest->pyLDAvis) (1.4.0)\n",
            "Requirement already satisfied: py>=1.5.0 in /usr/local/lib/python3.6/dist-packages (from pytest->pyLDAvis) (1.9.0)\n",
            "Requirement already satisfied: attrs>=17.4.0 in /usr/local/lib/python3.6/dist-packages (from pytest->pyLDAvis) (19.3.0)\n",
            "Requirement already satisfied: pluggy<0.8,>=0.5 in /usr/local/lib/python3.6/dist-packages (from pytest->pyLDAvis) (0.7.1)\n",
            "Requirement already satisfied: six>=1.10.0 in /usr/local/lib/python3.6/dist-packages (from pytest->pyLDAvis) (1.15.0)\n",
            "Requirement already satisfied: setuptools in /usr/local/lib/python3.6/dist-packages (from pytest->pyLDAvis) (49.1.0)\n",
            "Requirement already satisfied: more-itertools>=4.0.0 in /usr/local/lib/python3.6/dist-packages (from pytest->pyLDAvis) (8.4.0)\n",
            "Requirement already satisfied: pytz>=2017.2 in /usr/local/lib/python3.6/dist-packages (from pandas>=0.17.0->pyLDAvis) (2018.9)\n",
            "Requirement already satisfied: python-dateutil>=2.6.1 in /usr/local/lib/python3.6/dist-packages (from pandas>=0.17.0->pyLDAvis) (2.8.1)\n"
          ],
          "name": "stdout"
        }
      ]
    },
    {
      "cell_type": "code",
      "metadata": {
        "id": "IFQpWF2ZChzR",
        "colab_type": "code",
        "colab": {
          "base_uri": "https://localhost:8080/",
          "height": 338
        },
        "outputId": "4593062f-0c22-45af-a47b-766fc05823af"
      },
      "source": [
        "!pip install gensim --upgrade"
      ],
      "execution_count": null,
      "outputs": [
        {
          "output_type": "stream",
          "text": [
            "Requirement already up-to-date: gensim in /usr/local/lib/python3.6/dist-packages (3.8.3)\n",
            "Requirement already satisfied, skipping upgrade: numpy>=1.11.3 in /usr/local/lib/python3.6/dist-packages (from gensim) (1.18.5)\n",
            "Requirement already satisfied, skipping upgrade: scipy>=0.18.1 in /usr/local/lib/python3.6/dist-packages (from gensim) (1.4.1)\n",
            "Requirement already satisfied, skipping upgrade: six>=1.5.0 in /usr/local/lib/python3.6/dist-packages (from gensim) (1.15.0)\n",
            "Requirement already satisfied, skipping upgrade: smart-open>=1.8.1 in /usr/local/lib/python3.6/dist-packages (from gensim) (2.1.0)\n",
            "Requirement already satisfied, skipping upgrade: boto in /usr/local/lib/python3.6/dist-packages (from smart-open>=1.8.1->gensim) (2.49.0)\n",
            "Requirement already satisfied, skipping upgrade: requests in /usr/local/lib/python3.6/dist-packages (from smart-open>=1.8.1->gensim) (2.23.0)\n",
            "Requirement already satisfied, skipping upgrade: boto3 in /usr/local/lib/python3.6/dist-packages (from smart-open>=1.8.1->gensim) (1.14.24)\n",
            "Requirement already satisfied, skipping upgrade: idna<3,>=2.5 in /usr/local/lib/python3.6/dist-packages (from requests->smart-open>=1.8.1->gensim) (2.10)\n",
            "Requirement already satisfied, skipping upgrade: certifi>=2017.4.17 in /usr/local/lib/python3.6/dist-packages (from requests->smart-open>=1.8.1->gensim) (2020.6.20)\n",
            "Requirement already satisfied, skipping upgrade: chardet<4,>=3.0.2 in /usr/local/lib/python3.6/dist-packages (from requests->smart-open>=1.8.1->gensim) (3.0.4)\n",
            "Requirement already satisfied, skipping upgrade: urllib3!=1.25.0,!=1.25.1,<1.26,>=1.21.1 in /usr/local/lib/python3.6/dist-packages (from requests->smart-open>=1.8.1->gensim) (1.24.3)\n",
            "Requirement already satisfied, skipping upgrade: jmespath<1.0.0,>=0.7.1 in /usr/local/lib/python3.6/dist-packages (from boto3->smart-open>=1.8.1->gensim) (0.10.0)\n",
            "Requirement already satisfied, skipping upgrade: s3transfer<0.4.0,>=0.3.0 in /usr/local/lib/python3.6/dist-packages (from boto3->smart-open>=1.8.1->gensim) (0.3.3)\n",
            "Requirement already satisfied, skipping upgrade: botocore<1.18.0,>=1.17.24 in /usr/local/lib/python3.6/dist-packages (from boto3->smart-open>=1.8.1->gensim) (1.17.24)\n",
            "Requirement already satisfied, skipping upgrade: docutils<0.16,>=0.10 in /usr/local/lib/python3.6/dist-packages (from botocore<1.18.0,>=1.17.24->boto3->smart-open>=1.8.1->gensim) (0.15.2)\n",
            "Requirement already satisfied, skipping upgrade: python-dateutil<3.0.0,>=2.1 in /usr/local/lib/python3.6/dist-packages (from botocore<1.18.0,>=1.17.24->boto3->smart-open>=1.8.1->gensim) (2.8.1)\n"
          ],
          "name": "stdout"
        }
      ]
    },
    {
      "cell_type": "code",
      "metadata": {
        "id": "O1TuOeNQFdZR",
        "colab_type": "code",
        "colab": {
          "base_uri": "https://localhost:8080/",
          "height": 70
        },
        "outputId": "be6b83d5-c35d-437f-f231-82ef282e9314"
      },
      "source": [
        "'''import os       #importing os to set environment variable\n",
        "def install_java():\n",
        "  !apt-get install -y openjdk-8-jdk-headless -qq > /dev/null      #install openjdk\n",
        "  os.environ[\"JAVA_HOME\"] = \"/usr/lib/jvm/java-8-openjdk-amd64\"     #set environment variable\n",
        "  !java -version       #check java version\n",
        "install_java()'''"
      ],
      "execution_count": null,
      "outputs": [
        {
          "output_type": "stream",
          "text": [
            "openjdk version \"11.0.7\" 2020-04-14\n",
            "OpenJDK Runtime Environment (build 11.0.7+10-post-Ubuntu-2ubuntu218.04)\n",
            "OpenJDK 64-Bit Server VM (build 11.0.7+10-post-Ubuntu-2ubuntu218.04, mixed mode, sharing)\n"
          ],
          "name": "stdout"
        }
      ]
    },
    {
      "cell_type": "code",
      "metadata": {
        "id": "HKyjiEKbA6sy",
        "colab_type": "code",
        "colab": {}
      },
      "source": [
        ""
      ],
      "execution_count": null,
      "outputs": []
    },
    {
      "cell_type": "code",
      "metadata": {
        "id": "fM9Ic8dGFp3T",
        "colab_type": "code",
        "colab": {
          "base_uri": "https://localhost:8080/",
          "height": 247
        },
        "outputId": "0fab9d92-79fd-4663-f6c3-a0a3ecac8a63"
      },
      "source": [
        "!wget http://mallet.cs.umass.edu/dist/mallet-2.0.8.zip\n",
        "!unzip mallet-2.0.8.zip"
      ],
      "execution_count": null,
      "outputs": [
        {
          "output_type": "stream",
          "text": [
            "--2020-07-26 17:40:01--  http://mallet.cs.umass.edu/dist/mallet-2.0.8.zip\n",
            "Resolving mallet.cs.umass.edu (mallet.cs.umass.edu)... 128.119.246.70\n",
            "Connecting to mallet.cs.umass.edu (mallet.cs.umass.edu)|128.119.246.70|:80... connected.\n",
            "HTTP request sent, awaiting response... 200 OK\n",
            "Length: 16184794 (15M) [application/zip]\n",
            "Saving to: ‘mallet-2.0.8.zip.3’\n",
            "\n",
            "mallet-2.0.8.zip.3  100%[===================>]  15.43M  5.16MB/s    in 3.0s    \n",
            "\n",
            "2020-07-26 17:40:05 (5.16 MB/s) - ‘mallet-2.0.8.zip.3’ saved [16184794/16184794]\n",
            "\n",
            "Archive:  mallet-2.0.8.zip\n",
            "replace mallet-2.0.8/bin/classifier2info? [y]es, [n]o, [A]ll, [N]one, [r]ename: "
          ],
          "name": "stdout"
        }
      ]
    },
    {
      "cell_type": "code",
      "metadata": {
        "id": "i6UqOn59_-0m",
        "colab_type": "code",
        "colab": {}
      },
      "source": [
        "import os"
      ],
      "execution_count": null,
      "outputs": []
    },
    {
      "cell_type": "code",
      "metadata": {
        "id": "mdvCgJHXMJ-X",
        "colab_type": "code",
        "colab": {
          "base_uri": "https://localhost:8080/",
          "height": 331
        },
        "outputId": "229b6b96-b06f-43ab-d865-950155ea9526"
      },
      "source": [
        "df.head()"
      ],
      "execution_count": null,
      "outputs": [
        {
          "output_type": "execute_result",
          "data": {
            "text/html": [
              "<div>\n",
              "<style scoped>\n",
              "    .dataframe tbody tr th:only-of-type {\n",
              "        vertical-align: middle;\n",
              "    }\n",
              "\n",
              "    .dataframe tbody tr th {\n",
              "        vertical-align: top;\n",
              "    }\n",
              "\n",
              "    .dataframe thead th {\n",
              "        text-align: right;\n",
              "    }\n",
              "</style>\n",
              "<table border=\"1\" class=\"dataframe\">\n",
              "  <thead>\n",
              "    <tr style=\"text-align: right;\">\n",
              "      <th></th>\n",
              "      <th>User</th>\n",
              "      <th>Text</th>\n",
              "      <th>Retweets</th>\n",
              "      <th>Favorites</th>\n",
              "      <th>HashTags</th>\n",
              "      <th>City</th>\n",
              "      <th>date</th>\n",
              "      <th>time</th>\n",
              "      <th>month_year</th>\n",
              "      <th>text_nlp</th>\n",
              "      <th>text_len</th>\n",
              "      <th>word_count</th>\n",
              "      <th>polarity</th>\n",
              "      <th>sentiment</th>\n",
              "    </tr>\n",
              "  </thead>\n",
              "  <tbody>\n",
              "    <tr>\n",
              "      <th>0</th>\n",
              "      <td>michaelbarata</td>\n",
              "      <td>New Blog Post: True Connection #love #connecti...</td>\n",
              "      <td>0</td>\n",
              "      <td>0</td>\n",
              "      <td>#love #connection #fear #lawofattraction</td>\n",
              "      <td>NY</td>\n",
              "      <td>2020-07-11</td>\n",
              "      <td>16:29:35</td>\n",
              "      <td>2020-07</td>\n",
              "      <td>new blog post true connection</td>\n",
              "      <td>34</td>\n",
              "      <td>5</td>\n",
              "      <td>0.243182</td>\n",
              "      <td>positive</td>\n",
              "    </tr>\n",
              "    <tr>\n",
              "      <th>1</th>\n",
              "      <td>fvnclothing</td>\n",
              "      <td>What’s “scary” are the ppl who project their f...</td>\n",
              "      <td>0</td>\n",
              "      <td>0</td>\n",
              "      <td>#Enlightenment #fear #grateful #grateful #oppo...</td>\n",
              "      <td>NY</td>\n",
              "      <td>2020-07-07</td>\n",
              "      <td>16:34:08</td>\n",
              "      <td>2020-07</td>\n",
              "      <td>what s scary ppl project fears onto others don...</td>\n",
              "      <td>149</td>\n",
              "      <td>26</td>\n",
              "      <td>-0.550000</td>\n",
              "      <td>negative</td>\n",
              "    </tr>\n",
              "    <tr>\n",
              "      <th>2</th>\n",
              "      <td>jourdaaa</td>\n",
              "      <td>JɆⱤⱤɎ ₵₳₦ A quiet mind is able to hear intuiti...</td>\n",
              "      <td>0</td>\n",
              "      <td>1</td>\n",
              "      <td>#monday #sketch #drawing #tomandjerry #blue #c...</td>\n",
              "      <td>NY</td>\n",
              "      <td>2020-07-07</td>\n",
              "      <td>02:34:40</td>\n",
              "      <td>2020-07</td>\n",
              "      <td>jɇɽɽɏ quiet mind able hear intuition fear run ...</td>\n",
              "      <td>118</td>\n",
              "      <td>21</td>\n",
              "      <td>0.193182</td>\n",
              "      <td>positive</td>\n",
              "    </tr>\n",
              "    <tr>\n",
              "      <th>3</th>\n",
              "      <td>BebitoToys</td>\n",
              "      <td>Some thoughts on fear... http://www.bebitotoys...</td>\n",
              "      <td>0</td>\n",
              "      <td>0</td>\n",
              "      <td>#bebitoblog #fear #theseuncertaintimes</td>\n",
              "      <td>NY</td>\n",
              "      <td>2020-07-06</td>\n",
              "      <td>20:05:05</td>\n",
              "      <td>2020-07</td>\n",
              "      <td>thoughts fear</td>\n",
              "      <td>28</td>\n",
              "      <td>4</td>\n",
              "      <td>0.000000</td>\n",
              "      <td>neutral</td>\n",
              "    </tr>\n",
              "    <tr>\n",
              "      <th>4</th>\n",
              "      <td>leverage_cr</td>\n",
              "      <td>#UnitedWeCan do what every we must for our #ci...</td>\n",
              "      <td>3</td>\n",
              "      <td>2</td>\n",
              "      <td>#UnitedWeCan #citizens #communities #country #...</td>\n",
              "      <td>NY</td>\n",
              "      <td>2020-06-30</td>\n",
              "      <td>12:05:40</td>\n",
              "      <td>2020-06</td>\n",
              "      <td>every it s it s it s it s go mindful one anoth...</td>\n",
              "      <td>147</td>\n",
              "      <td>33</td>\n",
              "      <td>0.000000</td>\n",
              "      <td>neutral</td>\n",
              "    </tr>\n",
              "  </tbody>\n",
              "</table>\n",
              "</div>"
            ],
            "text/plain": [
              "            User  ... sentiment\n",
              "0  michaelbarata  ...  positive\n",
              "1    fvnclothing  ...  negative\n",
              "2       jourdaaa  ...  positive\n",
              "3     BebitoToys  ...   neutral\n",
              "4    leverage_cr  ...   neutral\n",
              "\n",
              "[5 rows x 14 columns]"
            ]
          },
          "metadata": {
            "tags": []
          },
          "execution_count": 238
        }
      ]
    },
    {
      "cell_type": "code",
      "metadata": {
        "id": "OpuOGcRIHOGS",
        "colab_type": "code",
        "colab": {}
      },
      "source": [
        "os.environ['MALLET_HOME'] = '/content/mallet-2.0.8'\n",
        "mallet_path = '/content/mallet-2.0.8/bin/mallet'"
      ],
      "execution_count": null,
      "outputs": []
    },
    {
      "cell_type": "code",
      "metadata": {
        "id": "QiP9bort-sxL",
        "colab_type": "code",
        "colab": {}
      },
      "source": [
        " #Topic modeling\n",
        "# spacy for lemmatization\n",
        "import spacy;\n",
        "import en_core_web_sm\n",
        "# Gensim\n",
        "import gensim\n",
        "import gensim.corpora as corpora\n",
        "from gensim.utils import simple_preprocess\n",
        "from gensim.models import CoherenceModel\n",
        "\n",
        "# Plotting tools\n",
        "from pprint import pprint\n",
        "import pyLDAvis\n",
        "import pyLDAvis.gensim  # don't skip this\n",
        "import matplotlib.pyplot as plt\n",
        "%matplotlib inline\n",
        "\n",
        "# Enable logging for gensim - optional\n",
        "import logging\n",
        "logging.basicConfig(format='%(asctime)s : %(levelname)s : %(message)s', level=logging.ERROR)"
      ],
      "execution_count": null,
      "outputs": []
    },
    {
      "cell_type": "code",
      "metadata": {
        "id": "7ndWCgv--ihX",
        "colab_type": "code",
        "colab": {}
      },
      "source": [
        "# tokenize each sentence into a list of words, removing punctuations\n",
        "def sent_to_words(sentences):\n",
        "    for sentence in sentences:\n",
        "        yield(gensim.utils.simple_preprocess(str(sentence), deacc=True))  # deacc=True removes punctuations\n",
        "\n",
        "data_words = list(sent_to_words(df['text_nlp']))\n",
        "\n",
        "# Remove Stop and common Words\n",
        "stopwords = nltk.corpus.stopwords.words('english')\n",
        "# 'home', 'stay','new','york', 'time',\n",
        "newStopWords =  ['s','t',  'm', 're','don','ve','2', '3', '1', \n",
        "                 'it', 'i', 'us', 'get', 'you', 'let', 'going', 'know', \n",
        "                'make', 'take', 'still','got', 'can', 'this', 'all', 'me','go',\n",
        "                'even', 'here', 'well', 'much', 'many', 'way', 'want', 'every', 'little']\n",
        "stopwords.extend(newStopWords)\n",
        "\n",
        "data_words = [[word for word in doc if word not in stopwords] for doc in data_words]"
      ],
      "execution_count": null,
      "outputs": []
    },
    {
      "cell_type": "code",
      "metadata": {
        "id": "Ty4DattJAEkX",
        "colab_type": "code",
        "colab": {}
      },
      "source": [
        "# restrict words to only noun, adjective, verb and adverb\n",
        "def lemmatization(texts, allowed_postags=['NOUN', 'ADJ', 'VERB', 'ADV']):\n",
        "    \"\"\"https://spacy.io/api/annotation\"\"\"\n",
        "    texts_out = []\n",
        "    for sent in texts:\n",
        "        doc = nlp(\" \".join(sent)) \n",
        "        texts_out.append([token.lemma_ for token in doc if token.pos_ in allowed_postags])\n",
        "    return texts_out\n",
        "\n",
        "# Initialize spacy 'en' model, keeping only tagger component (for efficiency)\n",
        "nlp = spacy.load('en_core_web_sm', disable=['parser', 'ner'])\n",
        "# Do lemmatization keeping only noun, adj, vb, adv\n",
        "data_lemmatized = lemmatization(data_words, allowed_postags=['NOUN', 'ADJ', 'VERB', 'ADV'])"
      ],
      "execution_count": null,
      "outputs": []
    },
    {
      "cell_type": "code",
      "metadata": {
        "id": "Z_ZWaPI3ARLS",
        "colab_type": "code",
        "colab": {}
      },
      "source": [
        "# Create Dictionary\n",
        "id2word = corpora.Dictionary(data_lemmatized)\n",
        "# Create Corpus\n",
        "texts = data_lemmatized\n",
        "# Term Document Frequency\n",
        "corpus = [id2word.doc2bow(text) for text in texts]"
      ],
      "execution_count": null,
      "outputs": []
    },
    {
      "cell_type": "code",
      "metadata": {
        "id": "kq_WlZzYFgvl",
        "colab_type": "code",
        "colab": {}
      },
      "source": [
        ""
      ],
      "execution_count": null,
      "outputs": []
    },
    {
      "cell_type": "markdown",
      "metadata": {
        "id": "BF58QfYDAU4o",
        "colab_type": "text"
      },
      "source": [
        "## Finding the optimal number of topics using LdaMallet model"
      ]
    },
    {
      "cell_type": "code",
      "metadata": {
        "id": "OsxRtlBUAX8R",
        "colab_type": "code",
        "colab": {}
      },
      "source": [
        "start=24\n",
        "limit=32\n",
        "step=2\n",
        "random = 155"
      ],
      "execution_count": null,
      "outputs": []
    },
    {
      "cell_type": "code",
      "metadata": {
        "id": "vUcXn4BWAc3g",
        "colab_type": "code",
        "colab": {}
      },
      "source": [
        "# Write the function to compute coherence values for each model. \n",
        "# This could help us choose how many topics should be included into our model.\n",
        "\n",
        "def compute_coherence_values(dictionary, corpus, texts, limit, start=1, step=1):\n",
        "    \"\"\"\n",
        "    Compute c_v coherence for various number of topics\n",
        "\n",
        "    Parameters:\n",
        "    ----------\n",
        "    dictionary : Gensim dictionary\n",
        "    corpus : Gensim corpus\n",
        "    texts : List of input texts\n",
        "    limit : Max num of topics\n",
        "\n",
        "    Returns:\n",
        "    -------\n",
        "    model_list : List of LDA topic models\n",
        "    coherence_values : Coherence values corresponding to the LDA model with respective number of topics\n",
        "    \"\"\"\n",
        "    coherence_values = []\n",
        "    model_list = []\n",
        "    for num_topics in range(start, limit, step):\n",
        "        model = gensim.models.wrappers.LdaMallet(mallet_path, corpus=corpus, num_topics=num_topics, id2word=id2word,random_seed=random)\n",
        "        model_list.append(model)\n",
        "        coherencemodel = CoherenceModel(model=model, texts=texts, dictionary=dictionary, coherence='c_v')\n",
        "        coherence_values.append(coherencemodel.get_coherence())\n",
        "\n",
        "    return model_list, coherence_values"
      ],
      "execution_count": null,
      "outputs": []
    },
    {
      "cell_type": "code",
      "metadata": {
        "id": "NrCHfcw_Cgi_",
        "colab_type": "code",
        "colab": {}
      },
      "source": [
        ""
      ],
      "execution_count": null,
      "outputs": []
    },
    {
      "cell_type": "code",
      "metadata": {
        "id": "kDmX3mR-AewP",
        "colab_type": "code",
        "colab": {}
      },
      "source": [
        "# compute coherence values for each model\n",
        "#mallet_path = 'mallet-2.0.8/bin/mallet' # update this path\n",
        "model_list, coherence_values = compute_coherence_values(dictionary=id2word, corpus=corpus, texts=data_lemmatized, start=start, limit=limit, step=step)"
      ],
      "execution_count": null,
      "outputs": []
    },
    {
      "cell_type": "code",
      "metadata": {
        "id": "vHbkd2-AM0JG",
        "colab_type": "code",
        "colab": {
          "base_uri": "https://localhost:8080/",
          "height": 278
        },
        "outputId": "586f6bd0-9cb1-4f2d-d17f-afd74a6aa95d"
      },
      "source": [
        "# plot the coherence values when number of topics equals to different numbers\n",
        "x = range(start, limit, step)\n",
        "plt.plot(x, coherence_values)\n",
        "plt.xlabel(\"Num Topics\")\n",
        "plt.ylabel(\"Coherence score\")\n",
        "plt.legend((\"coherence_values\"), loc='best')\n",
        "plt.show()\n",
        "# The graph tell us about what number of topics to choose so we will choose 28 as it has maximum coherence score at that point"
      ],
      "execution_count": null,
      "outputs": [
        {
          "output_type": "display_data",
          "data": {
            "image/png": "[encoded data removed]",
            "text/plain": [
              "<Figure size 432x288 with 1 Axes>"
            ]
          },
          "metadata": {
            "tags": [],
            "needs_background": "light"
          }
        }
      ]
    },
    {
      "cell_type": "code",
      "metadata": {
        "id": "Jr4zoZ7iNeqA",
        "colab_type": "code",
        "colab": {
          "base_uri": "https://localhost:8080/",
          "height": 87
        },
        "outputId": "9c730183-94e6-4f1d-8e54-899a52d2c909"
      },
      "source": [
        "# plot the coherence values when number of topics equals to different numbers\n",
        "for m, cv in zip(x, coherence_values):\n",
        "    print(\"Num Topics =\", m, \" has Coherence Value of\", round(cv, 4))\n",
        "\n",
        "#If the coherence score seems to keep increasing, it may make better sense to pick the model that gave the highest CV before flattening out. This is exactly the case here.\n",
        "#So for further steps I will choose the model with 28 topics itself."
      ],
      "execution_count": null,
      "outputs": [
        {
          "output_type": "stream",
          "text": [
            "Num Topics = 24  has Coherence Value of 0.3606\n",
            "Num Topics = 26  has Coherence Value of 0.3743\n",
            "Num Topics = 28  has Coherence Value of 0.3905\n",
            "Num Topics = 30  has Coherence Value of 0.3758\n"
          ],
          "name": "stdout"
        }
      ]
    },
    {
      "cell_type": "markdown",
      "metadata": {
        "id": "idWS3_0bNp9w",
        "colab_type": "text"
      },
      "source": [
        "## Finding Key Words for each topic using optimal LdaMallet model"
      ]
    },
    {
      "cell_type": "code",
      "metadata": {
        "id": "0YLTSdcCNnZq",
        "colab_type": "code",
        "colab": {}
      },
      "source": [
        "#mallet_path = 'mallet-2.0.8/bin/mallet' # update this path\n",
        "ldamallet = gensim.models.wrappers.LdaMallet(mallet_path, \n",
        "                                             corpus=corpus,\n",
        "                                             num_topics=26, \n",
        "                                             id2word=id2word,\n",
        "                                             random_seed = 155)"
      ],
      "execution_count": null,
      "outputs": []
    },
    {
      "cell_type": "code",
      "metadata": {
        "id": "eKsWkGkrQKFU",
        "colab_type": "code",
        "colab": {
          "base_uri": "https://localhost:8080/",
          "height": 372
        },
        "outputId": "ac86446c-9bc6-411d-f96c-c96ad06d0e04"
      },
      "source": [
        "# Show Topics\n",
        "model_topics = ldamallet.show_topics(formatted=False)\n",
        "\n",
        "pprint(sorted(ldamallet.print_topics(num_words=4)))\n"
      ],
      "execution_count": null,
      "outputs": [
        {
          "output_type": "stream",
          "text": [
            "[(0, '0.171*\"people\" + 0.138*\"life\" + 0.046*\"change\" + 0.027*\"die\"'),\n",
            " (1, '0.098*\"thing\" + 0.087*\"make\" + 0.045*\"end\" + 0.024*\"talk\"'),\n",
            " (2, '0.048*\"face\" + 0.047*\"social\" + 0.047*\"make\" + 0.045*\"wear\"'),\n",
            " (4, '0.267*\"time\" + 0.085*\"year\" + 0.057*\"follow\" + 0.042*\"post\"'),\n",
            " (5, '0.215*\"good\" + 0.115*\"morning\" + 0.084*\"fitness\" + 0.034*\"daily\"'),\n",
            " (6, '0.059*\"show\" + 0.045*\"long\" + 0.037*\"play\" + 0.025*\"read\"'),\n",
            " (7, '0.068*\"family\" + 0.047*\"friend\" + 0.046*\"positive\" + 0.034*\"death\"'),\n",
            " (8, '0.084*\"check\" + 0.084*\"night\" + 0.065*\"watch\" + 0.060*\"video\"'),\n",
            " (9, '0.251*\"work\" + 0.087*\"give\" + 0.061*\"hard\" + 0.059*\"smile\"'),\n",
            " (12, '0.054*\"friend\" + 0.050*\"listen\" + 0.045*\"big\" + 0.025*\"hand\"'),\n",
            " (13, '0.053*\"world\" + 0.039*\"place\" + 0.036*\"put\" + 0.035*\"remember\"'),\n",
            " (14, '0.120*\"live\" + 0.079*\"tonight\" + 0.059*\"pm\" + 0.052*\"join\"'),\n",
            " (15, '0.045*\"essential\" + 0.044*\"support\" + 0.044*\"care\" + 0.044*\"worker\"'),\n",
            " (16, '0.069*\"order\" + 0.065*\"free\" + 0.050*\"call\" + 0.050*\"open\"'),\n",
            " (18, '0.323*\"today\" + 0.070*\"wait\" + 0.060*\"book\" + 0.052*\"link\"'),\n",
            " (20, '0.128*\"feel\" + 0.099*\"back\" + 0.038*\"leave\" + 0.033*\"important\"'),\n",
            " (21, '0.120*\"week\" + 0.113*\"class\" + 0.036*\"month\" + 0.034*\"kid\"'),\n",
            " (23, '0.036*\"set\" + 0.033*\"exercise\" + 0.033*\"minute\" + 0.032*\"push\"'),\n",
            " (24, '0.288*\"stay\" + 0.226*\"home\" + 0.109*\"safe\" + 0.055*\"healthy\"'),\n",
            " (25, '0.086*\"workout\" + 0.068*\"body\" + 0.050*\"strong\" + 0.037*\"goal\"')]\n"
          ],
          "name": "stdout"
        }
      ]
    },
    {
      "cell_type": "code",
      "metadata": {
        "id": "zyk3QnYSQT6Z",
        "colab_type": "code",
        "colab": {}
      },
      "source": [
        "topics = pd.DataFrame(sorted(ldamallet.print_topics(num_words=10)))\n",
        "topics.columns = ['Topic_num','Key_words']\n",
        "topics.to_csv('28_topics_2.csv',index = False)"
      ],
      "execution_count": null,
      "outputs": []
    },
    {
      "cell_type": "code",
      "metadata": {
        "id": "xKYyLs-NTwth",
        "colab_type": "code",
        "colab": {
          "base_uri": "https://localhost:8080/",
          "height": 197
        },
        "outputId": "94cccab1-7cdd-4680-ac2a-18da53b99f65"
      },
      "source": [
        "topics.head()\n",
        "#This csv tell us about the keywords about each topic\n",
        "'''\n",
        "here in 0.171*\"people\" \n",
        "0.0171 is percentage score\n",
        "and \"people\" is keyboard \n",
        "'''"
      ],
      "execution_count": null,
      "outputs": [
        {
          "output_type": "execute_result",
          "data": {
            "text/html": [
              "<div>\n",
              "<style scoped>\n",
              "    .dataframe tbody tr th:only-of-type {\n",
              "        vertical-align: middle;\n",
              "    }\n",
              "\n",
              "    .dataframe tbody tr th {\n",
              "        vertical-align: top;\n",
              "    }\n",
              "\n",
              "    .dataframe thead th {\n",
              "        text-align: right;\n",
              "    }\n",
              "</style>\n",
              "<table border=\"1\" class=\"dataframe\">\n",
              "  <thead>\n",
              "    <tr style=\"text-align: right;\">\n",
              "      <th></th>\n",
              "      <th>Topic_num</th>\n",
              "      <th>Key_words</th>\n",
              "    </tr>\n",
              "  </thead>\n",
              "  <tbody>\n",
              "    <tr>\n",
              "      <th>0</th>\n",
              "      <td>0</td>\n",
              "      <td>0.171*\"people\" + 0.138*\"life\" + 0.046*\"change\"...</td>\n",
              "    </tr>\n",
              "    <tr>\n",
              "      <th>1</th>\n",
              "      <td>1</td>\n",
              "      <td>0.098*\"thing\" + 0.087*\"make\" + 0.045*\"end\" + 0...</td>\n",
              "    </tr>\n",
              "    <tr>\n",
              "      <th>2</th>\n",
              "      <td>3</td>\n",
              "      <td>0.056*\"mind\" + 0.049*\"bring\" + 0.033*\"moment\" ...</td>\n",
              "    </tr>\n",
              "    <tr>\n",
              "      <th>3</th>\n",
              "      <td>4</td>\n",
              "      <td>0.267*\"time\" + 0.085*\"year\" + 0.057*\"follow\" +...</td>\n",
              "    </tr>\n",
              "    <tr>\n",
              "      <th>4</th>\n",
              "      <td>5</td>\n",
              "      <td>0.215*\"good\" + 0.115*\"morning\" + 0.084*\"fitnes...</td>\n",
              "    </tr>\n",
              "  </tbody>\n",
              "</table>\n",
              "</div>"
            ],
            "text/plain": [
              "   Topic_num                                          Key_words\n",
              "0          0  0.171*\"people\" + 0.138*\"life\" + 0.046*\"change\"...\n",
              "1          1  0.098*\"thing\" + 0.087*\"make\" + 0.045*\"end\" + 0...\n",
              "2          3  0.056*\"mind\" + 0.049*\"bring\" + 0.033*\"moment\" ...\n",
              "3          4  0.267*\"time\" + 0.085*\"year\" + 0.057*\"follow\" +...\n",
              "4          5  0.215*\"good\" + 0.115*\"morning\" + 0.084*\"fitnes..."
            ]
          },
          "metadata": {
            "tags": []
          },
          "execution_count": 255
        }
      ]
    },
    {
      "cell_type": "code",
      "metadata": {
        "id": "6SboJSJtQX7x",
        "colab_type": "code",
        "colab": {
          "base_uri": "https://localhost:8080/",
          "height": 52
        },
        "outputId": "f5c917d1-0ab7-42e7-93dc-563e5a4a531f"
      },
      "source": [
        "# Compute Coherence Score\n",
        "coherence_model_ldamallet = CoherenceModel(model=ldamallet, texts=data_lemmatized, dictionary=id2word, coherence='c_v')\n",
        "coherence_ldamallet = coherence_model_ldamallet.get_coherence()\n",
        "print('\\nCoherence Score: ', coherence_ldamallet)\n",
        "#More the coherence score more is better keywords"
      ],
      "execution_count": null,
      "outputs": [
        {
          "output_type": "stream",
          "text": [
            "\n",
            "Coherence Score:  0.3742857750469968\n"
          ],
          "name": "stdout"
        }
      ]
    },
    {
      "cell_type": "markdown",
      "metadata": {
        "id": "3rA5dLlhRwBN",
        "colab_type": "text"
      },
      "source": [
        "## Topic vector"
      ]
    },
    {
      "cell_type": "markdown",
      "metadata": {
        "id": "nmH4dYEyWLsT",
        "colab_type": "text"
      },
      "source": [
        "### Finding the dominant topic in each sentence\n",
        "One of the practical application of topic modeling is to determine what topic a given document is about.\n",
        "\n",
        "To find that, we find the topic number that has the highest percentage contribution in that document.\n",
        "\n",
        "The format_topics_sentences() function below nicely aggregates this information in a presentable table."
      ]
    },
    {
      "cell_type": "code",
      "metadata": {
        "id": "DjQEzJNIRzA4",
        "colab_type": "code",
        "colab": {
          "base_uri": "https://localhost:8080/",
          "height": 347
        },
        "outputId": "c47adaa4-65b7-4023-b4ed-bee1c60c6c3e"
      },
      "source": [
        "def format_topics_sentences(ldamodel=ldamallet, corpus=corpus, texts=df[\"text_nlp\"]):\n",
        "    # Init output\n",
        "    sent_topics_df = pd.DataFrame()\n",
        "\n",
        "    # Get main topic in each document\n",
        "    for i, row in enumerate(ldamodel[corpus]):\n",
        "        row = sorted(row, key=lambda x: (x[1]), reverse=True)\n",
        "        # Get the Dominant topic, Perc Contribution and Keywords for each document\n",
        "        for j, (topic_num, prop_topic) in enumerate(row):\n",
        "            if j == 0:  # => dominant topic\n",
        "                wp = ldamodel.show_topic(topic_num)\n",
        "                topic_keywords = \", \".join([word for word, prop in wp])\n",
        "                sent_topics_df = sent_topics_df.append(pd.Series([int(topic_num), round(prop_topic,4), topic_keywords]), ignore_index=True)\n",
        "            else:\n",
        "                break\n",
        "    sent_topics_df.columns = ['Dominant_Topic', 'Perc_Contribution', 'Topic_Keywords']\n",
        "\n",
        "    # Add original text to the end of the output\n",
        "    contents = pd.Series(texts)\n",
        "    sent_topics_df = sent_topics_df.join(contents)\n",
        "    return(sent_topics_df)\n",
        "\n",
        "\n",
        "df_topic_sents_keywords = format_topics_sentences(ldamodel=ldamallet, corpus=corpus, texts=df[\"text_nlp\"])\n",
        "# Format\n",
        "df_dominant_topic = df_topic_sents_keywords.reset_index()\n",
        "df_dominant_topic.columns = ['Document_No', 'Dominant_Topic', 'Topic_Perc_Contrib', 'Keywords', 'Text']\n",
        "\n",
        "# Show\n"
      ],
      "execution_count": null,
      "outputs": [
        {
          "output_type": "execute_result",
          "data": {
            "text/html": [
              "<div>\n",
              "<style scoped>\n",
              "    .dataframe tbody tr th:only-of-type {\n",
              "        vertical-align: middle;\n",
              "    }\n",
              "\n",
              "    .dataframe tbody tr th {\n",
              "        vertical-align: top;\n",
              "    }\n",
              "\n",
              "    .dataframe thead th {\n",
              "        text-align: right;\n",
              "    }\n",
              "</style>\n",
              "<table border=\"1\" class=\"dataframe\">\n",
              "  <thead>\n",
              "    <tr style=\"text-align: right;\">\n",
              "      <th></th>\n",
              "      <th>Document_No</th>\n",
              "      <th>Dominant_Topic</th>\n",
              "      <th>Topic_Perc_Contrib</th>\n",
              "      <th>Keywords</th>\n",
              "      <th>Text</th>\n",
              "    </tr>\n",
              "  </thead>\n",
              "  <tbody>\n",
              "    <tr>\n",
              "      <th>0</th>\n",
              "      <td>0</td>\n",
              "      <td>4.0</td>\n",
              "      <td>0.0541</td>\n",
              "      <td>time, year, follow, post, hour, step, turn, ag...</td>\n",
              "      <td>new blog post true connection</td>\n",
              "    </tr>\n",
              "    <tr>\n",
              "      <th>1</th>\n",
              "      <td>0</td>\n",
              "      <td>4.0</td>\n",
              "      <td>0.0541</td>\n",
              "      <td>time, year, follow, post, hour, step, turn, ag...</td>\n",
              "      <td>oh reunion heyyy</td>\n",
              "    </tr>\n",
              "    <tr>\n",
              "      <th>2</th>\n",
              "      <td>0</td>\n",
              "      <td>4.0</td>\n",
              "      <td>0.0541</td>\n",
              "      <td>time, year, follow, post, hour, step, turn, ag...</td>\n",
              "      <td>couldn t accurate mls new home listing thanks ...</td>\n",
              "    </tr>\n",
              "    <tr>\n",
              "      <th>3</th>\n",
              "      <td>0</td>\n",
              "      <td>4.0</td>\n",
              "      <td>0.0541</td>\n",
              "      <td>time, year, follow, post, hour, step, turn, ag...</td>\n",
              "      <td>goldenrulewill via lovewillam_ atrainlive make...</td>\n",
              "    </tr>\n",
              "    <tr>\n",
              "      <th>4</th>\n",
              "      <td>0</td>\n",
              "      <td>4.0</td>\n",
              "      <td>0.0541</td>\n",
              "      <td>time, year, follow, post, hour, step, turn, ag...</td>\n",
              "      <td>hey maxwell meets premature end near future on...</td>\n",
              "    </tr>\n",
              "    <tr>\n",
              "      <th>5</th>\n",
              "      <td>0</td>\n",
              "      <td>4.0</td>\n",
              "      <td>0.0541</td>\n",
              "      <td>time, year, follow, post, hour, step, turn, ag...</td>\n",
              "      <td>power control life ___________________</td>\n",
              "    </tr>\n",
              "    <tr>\n",
              "      <th>6</th>\n",
              "      <td>0</td>\n",
              "      <td>4.0</td>\n",
              "      <td>0.0541</td>\n",
              "      <td>time, year, follow, post, hour, step, turn, ag...</td>\n",
              "      <td>life gives lemons</td>\n",
              "    </tr>\n",
              "    <tr>\n",
              "      <th>7</th>\n",
              "      <td>0</td>\n",
              "      <td>4.0</td>\n",
              "      <td>0.0541</td>\n",
              "      <td>time, year, follow, post, hour, step, turn, ag...</td>\n",
              "      <td>homemade cuban sandwiches strawberry daiquiris...</td>\n",
              "    </tr>\n",
              "    <tr>\n",
              "      <th>8</th>\n",
              "      <td>1</td>\n",
              "      <td>7.0</td>\n",
              "      <td>0.0681</td>\n",
              "      <td>family, friend, positive, death, case, test, r...</td>\n",
              "      <td>what s scary ppl project fears onto others don...</td>\n",
              "    </tr>\n",
              "    <tr>\n",
              "      <th>9</th>\n",
              "      <td>1</td>\n",
              "      <td>7.0</td>\n",
              "      <td>0.0681</td>\n",
              "      <td>family, friend, positive, death, case, test, r...</td>\n",
              "      <td>get winner i crying time find</td>\n",
              "    </tr>\n",
              "  </tbody>\n",
              "</table>\n",
              "</div>"
            ],
            "text/plain": [
              "   Document_No  ...                                               Text\n",
              "0            0  ...                      new blog post true connection\n",
              "1            0  ...                                   oh reunion heyyy\n",
              "2            0  ...  couldn t accurate mls new home listing thanks ...\n",
              "3            0  ...  goldenrulewill via lovewillam_ atrainlive make...\n",
              "4            0  ...  hey maxwell meets premature end near future on...\n",
              "5            0  ...            power control life ___________________ \n",
              "6            0  ...                                 life gives lemons \n",
              "7            0  ...  homemade cuban sandwiches strawberry daiquiris...\n",
              "8            1  ...  what s scary ppl project fears onto others don...\n",
              "9            1  ...                      get winner i crying time find\n",
              "\n",
              "[10 rows x 5 columns]"
            ]
          },
          "metadata": {
            "tags": []
          },
          "execution_count": 259
        }
      ]
    },
    {
      "cell_type": "code",
      "metadata": {
        "id": "rVdO4xWMQePh",
        "colab_type": "code",
        "colab": {
          "base_uri": "https://localhost:8080/",
          "height": 406
        },
        "outputId": "8c7716fc-5d6d-4d45-a943-3b35e67a3d56"
      },
      "source": [
        "df_dominant_topic.head(100)"
      ],
      "execution_count": null,
      "outputs": [
        {
          "output_type": "execute_result",
          "data": {
            "text/html": [
              "<div>\n",
              "<style scoped>\n",
              "    .dataframe tbody tr th:only-of-type {\n",
              "        vertical-align: middle;\n",
              "    }\n",
              "\n",
              "    .dataframe tbody tr th {\n",
              "        vertical-align: top;\n",
              "    }\n",
              "\n",
              "    .dataframe thead th {\n",
              "        text-align: right;\n",
              "    }\n",
              "</style>\n",
              "<table border=\"1\" class=\"dataframe\">\n",
              "  <thead>\n",
              "    <tr style=\"text-align: right;\">\n",
              "      <th></th>\n",
              "      <th>Document_No</th>\n",
              "      <th>Dominant_Topic</th>\n",
              "      <th>Topic_Perc_Contrib</th>\n",
              "      <th>Keywords</th>\n",
              "      <th>Text</th>\n",
              "    </tr>\n",
              "  </thead>\n",
              "  <tbody>\n",
              "    <tr>\n",
              "      <th>0</th>\n",
              "      <td>0</td>\n",
              "      <td>4.0</td>\n",
              "      <td>0.0541</td>\n",
              "      <td>time, year, follow, post, hour, step, turn, ag...</td>\n",
              "      <td>new blog post true connection</td>\n",
              "    </tr>\n",
              "    <tr>\n",
              "      <th>1</th>\n",
              "      <td>0</td>\n",
              "      <td>4.0</td>\n",
              "      <td>0.0541</td>\n",
              "      <td>time, year, follow, post, hour, step, turn, ag...</td>\n",
              "      <td>oh reunion heyyy</td>\n",
              "    </tr>\n",
              "    <tr>\n",
              "      <th>2</th>\n",
              "      <td>0</td>\n",
              "      <td>4.0</td>\n",
              "      <td>0.0541</td>\n",
              "      <td>time, year, follow, post, hour, step, turn, ag...</td>\n",
              "      <td>couldn t accurate mls new home listing thanks ...</td>\n",
              "    </tr>\n",
              "    <tr>\n",
              "      <th>3</th>\n",
              "      <td>0</td>\n",
              "      <td>4.0</td>\n",
              "      <td>0.0541</td>\n",
              "      <td>time, year, follow, post, hour, step, turn, ag...</td>\n",
              "      <td>goldenrulewill via lovewillam_ atrainlive make...</td>\n",
              "    </tr>\n",
              "    <tr>\n",
              "      <th>4</th>\n",
              "      <td>0</td>\n",
              "      <td>4.0</td>\n",
              "      <td>0.0541</td>\n",
              "      <td>time, year, follow, post, hour, step, turn, ag...</td>\n",
              "      <td>hey maxwell meets premature end near future on...</td>\n",
              "    </tr>\n",
              "    <tr>\n",
              "      <th>...</th>\n",
              "      <td>...</td>\n",
              "      <td>...</td>\n",
              "      <td>...</td>\n",
              "      <td>...</td>\n",
              "      <td>...</td>\n",
              "    </tr>\n",
              "    <tr>\n",
              "      <th>95</th>\n",
              "      <td>12</td>\n",
              "      <td>0.0</td>\n",
              "      <td>0.0385</td>\n",
              "      <td>people, life, change, die, virus, save, kill, ...</td>\n",
              "      <td>the beacon theatre</td>\n",
              "    </tr>\n",
              "    <tr>\n",
              "      <th>96</th>\n",
              "      <td>12</td>\n",
              "      <td>0.0</td>\n",
              "      <td>0.0385</td>\n",
              "      <td>people, life, change, die, virus, save, kill, ...</td>\n",
              "      <td>oh took south america</td>\n",
              "    </tr>\n",
              "    <tr>\n",
              "      <th>97</th>\n",
              "      <td>12</td>\n",
              "      <td>0.0</td>\n",
              "      <td>0.0385</td>\n",
              "      <td>people, life, change, die, virus, save, kill, ...</td>\n",
              "      <td>people bot purchase nintendo consoles resell h...</td>\n",
              "    </tr>\n",
              "    <tr>\n",
              "      <th>98</th>\n",
              "      <td>12</td>\n",
              "      <td>0.0</td>\n",
              "      <td>0.0385</td>\n",
              "      <td>people, life, change, die, virus, save, kill, ...</td>\n",
              "      <td>contagious disease people sitting homes unawar...</td>\n",
              "    </tr>\n",
              "    <tr>\n",
              "      <th>99</th>\n",
              "      <td>12</td>\n",
              "      <td>0.0</td>\n",
              "      <td>0.0385</td>\n",
              "      <td>people, life, change, die, virus, save, kill, ...</td>\n",
              "      <td>good night always go sleep smile</td>\n",
              "    </tr>\n",
              "  </tbody>\n",
              "</table>\n",
              "<p>100 rows × 5 columns</p>\n",
              "</div>"
            ],
            "text/plain": [
              "    Document_No  ...                                               Text\n",
              "0             0  ...                      new blog post true connection\n",
              "1             0  ...                                   oh reunion heyyy\n",
              "2             0  ...  couldn t accurate mls new home listing thanks ...\n",
              "3             0  ...  goldenrulewill via lovewillam_ atrainlive make...\n",
              "4             0  ...  hey maxwell meets premature end near future on...\n",
              "..          ...  ...                                                ...\n",
              "95           12  ...                                 the beacon theatre\n",
              "96           12  ...                              oh took south america\n",
              "97           12  ...  people bot purchase nintendo consoles resell h...\n",
              "98           12  ...  contagious disease people sitting homes unawar...\n",
              "99           12  ...                  good night always go sleep smile \n",
              "\n",
              "[100 rows x 5 columns]"
            ]
          },
          "metadata": {
            "tags": []
          },
          "execution_count": 263
        }
      ]
    },
    {
      "cell_type": "markdown",
      "metadata": {
        "id": "dKWB3uchTyf3",
        "colab_type": "text"
      },
      "source": [
        "### Find the most representative document for each topic\n",
        "Sometimes just the topic keywords may not be enough to make sense of what a topic is about. So, to help with understanding the topic, you can find the documents a given topic has contributed to the most and infer the topic by reading that document. Whew!!"
      ]
    },
    {
      "cell_type": "code",
      "metadata": {
        "id": "FtwnUsKuTkOP",
        "colab_type": "code",
        "colab": {
          "base_uri": "https://localhost:8080/",
          "height": 197
        },
        "outputId": "3c8c1e8f-028b-4a38-d179-04f48b6fcce4"
      },
      "source": [
        "# Group top 5 sentences under each topic\n",
        "sent_topics_sorteddf_mallet = pd.DataFrame()\n",
        "\n",
        "sent_topics_outdf_grpd = df_topic_sents_keywords.groupby('Dominant_Topic')\n",
        "\n",
        "for i, grp in sent_topics_outdf_grpd:\n",
        "    sent_topics_sorteddf_mallet = pd.concat([sent_topics_sorteddf_mallet, \n",
        "                                             grp.sort_values(['Perc_Contribution'], ascending=[0]).head(1)], \n",
        "                                            axis=0)\n",
        "\n",
        "# Reset Index    \n",
        "sent_topics_sorteddf_mallet.reset_index(drop=True, inplace=True)\n",
        "\n",
        "# Format\n",
        "sent_topics_sorteddf_mallet.columns = ['Topic_Num', \"Topic_Perc_Contrib\", \"Keywords\", \"Text\"]\n",
        "\n",
        "# Show\n",
        "sent_topics_sorteddf_mallet.head()"
      ],
      "execution_count": null,
      "outputs": [
        {
          "output_type": "execute_result",
          "data": {
            "text/html": [
              "<div>\n",
              "<style scoped>\n",
              "    .dataframe tbody tr th:only-of-type {\n",
              "        vertical-align: middle;\n",
              "    }\n",
              "\n",
              "    .dataframe tbody tr th {\n",
              "        vertical-align: top;\n",
              "    }\n",
              "\n",
              "    .dataframe thead th {\n",
              "        text-align: right;\n",
              "    }\n",
              "</style>\n",
              "<table border=\"1\" class=\"dataframe\">\n",
              "  <thead>\n",
              "    <tr style=\"text-align: right;\">\n",
              "      <th></th>\n",
              "      <th>Topic_Num</th>\n",
              "      <th>Topic_Perc_Contrib</th>\n",
              "      <th>Keywords</th>\n",
              "      <th>Text</th>\n",
              "    </tr>\n",
              "  </thead>\n",
              "  <tbody>\n",
              "    <tr>\n",
              "      <th>0</th>\n",
              "      <td>0.0</td>\n",
              "      <td>0.1987</td>\n",
              "      <td>people, life, change, die, virus, save, kill, ...</td>\n",
              "      <td>isolation outreach clinics full effect</td>\n",
              "    </tr>\n",
              "    <tr>\n",
              "      <th>1</th>\n",
              "      <td>1.0</td>\n",
              "      <td>0.1464</td>\n",
              "      <td>thing, make, end, talk, person, quarantine, gr...</td>\n",
              "      <td>new sketch outside inside remember go outside</td>\n",
              "    </tr>\n",
              "    <tr>\n",
              "      <th>2</th>\n",
              "      <td>2.0</td>\n",
              "      <td>0.1672</td>\n",
              "      <td>face, social, make, wear, weekend, mask, pract...</td>\n",
              "      <td>great weekend everyone need serious workout co...</td>\n",
              "    </tr>\n",
              "    <tr>\n",
              "      <th>3</th>\n",
              "      <td>3.0</td>\n",
              "      <td>0.1590</td>\n",
              "      <td>mind, bring, moment, create, full, thought, dr...</td>\n",
              "      <td>share book saturday</td>\n",
              "    </tr>\n",
              "    <tr>\n",
              "      <th>4</th>\n",
              "      <td>4.0</td>\n",
              "      <td>0.1390</td>\n",
              "      <td>time, year, follow, post, hour, step, turn, ag...</td>\n",
              "      <td>it s 7pm april 10th nightly clap essential wor...</td>\n",
              "    </tr>\n",
              "  </tbody>\n",
              "</table>\n",
              "</div>"
            ],
            "text/plain": [
              "   Topic_Num  ...                                               Text\n",
              "0        0.0  ...            isolation outreach clinics full effect \n",
              "1        1.0  ...     new sketch outside inside remember go outside \n",
              "2        2.0  ...  great weekend everyone need serious workout co...\n",
              "3        3.0  ...                                share book saturday\n",
              "4        4.0  ...  it s 7pm april 10th nightly clap essential wor...\n",
              "\n",
              "[5 rows x 4 columns]"
            ]
          },
          "metadata": {
            "tags": []
          },
          "execution_count": 267
        }
      ]
    },
    {
      "cell_type": "code",
      "metadata": {
        "id": "siKP3fTsUYL5",
        "colab_type": "code",
        "colab": {
          "base_uri": "https://localhost:8080/",
          "height": 827
        },
        "outputId": "b8aa70e3-20ac-487d-dc9a-f2c8e3f95a59"
      },
      "source": [
        "sent_topics_sorteddf_mallet"
      ],
      "execution_count": null,
      "outputs": [
        {
          "output_type": "execute_result",
          "data": {
            "text/html": [
              "<div>\n",
              "<style scoped>\n",
              "    .dataframe tbody tr th:only-of-type {\n",
              "        vertical-align: middle;\n",
              "    }\n",
              "\n",
              "    .dataframe tbody tr th {\n",
              "        vertical-align: top;\n",
              "    }\n",
              "\n",
              "    .dataframe thead th {\n",
              "        text-align: right;\n",
              "    }\n",
              "</style>\n",
              "<table border=\"1\" class=\"dataframe\">\n",
              "  <thead>\n",
              "    <tr style=\"text-align: right;\">\n",
              "      <th></th>\n",
              "      <th>Topic_Num</th>\n",
              "      <th>Topic_Perc_Contrib</th>\n",
              "      <th>Keywords</th>\n",
              "      <th>Text</th>\n",
              "    </tr>\n",
              "  </thead>\n",
              "  <tbody>\n",
              "    <tr>\n",
              "      <th>0</th>\n",
              "      <td>0.0</td>\n",
              "      <td>0.1987</td>\n",
              "      <td>people, life, change, die, virus, save, kill, ...</td>\n",
              "      <td>isolation outreach clinics full effect</td>\n",
              "    </tr>\n",
              "    <tr>\n",
              "      <th>1</th>\n",
              "      <td>1.0</td>\n",
              "      <td>0.1464</td>\n",
              "      <td>thing, make, end, talk, person, quarantine, gr...</td>\n",
              "      <td>new sketch outside inside remember go outside</td>\n",
              "    </tr>\n",
              "    <tr>\n",
              "      <th>2</th>\n",
              "      <td>2.0</td>\n",
              "      <td>0.1672</td>\n",
              "      <td>face, social, make, wear, weekend, mask, pract...</td>\n",
              "      <td>great weekend everyone need serious workout co...</td>\n",
              "    </tr>\n",
              "    <tr>\n",
              "      <th>3</th>\n",
              "      <td>3.0</td>\n",
              "      <td>0.1590</td>\n",
              "      <td>mind, bring, moment, create, full, thought, dr...</td>\n",
              "      <td>share book saturday</td>\n",
              "    </tr>\n",
              "    <tr>\n",
              "      <th>4</th>\n",
              "      <td>4.0</td>\n",
              "      <td>0.1390</td>\n",
              "      <td>time, year, follow, post, hour, step, turn, ag...</td>\n",
              "      <td>it s 7pm april 10th nightly clap essential wor...</td>\n",
              "    </tr>\n",
              "    <tr>\n",
              "      <th>5</th>\n",
              "      <td>5.0</td>\n",
              "      <td>0.1673</td>\n",
              "      <td>good, morning, fitness, daily, hit, yoga, memb...</td>\n",
              "      <td>NaN</td>\n",
              "    </tr>\n",
              "    <tr>\n",
              "      <th>6</th>\n",
              "      <td>6.0</td>\n",
              "      <td>0.1399</td>\n",
              "      <td>show, long, play, read, lol, line, picture, bu...</td>\n",
              "      <td>inhale future exhale past</td>\n",
              "    </tr>\n",
              "    <tr>\n",
              "      <th>7</th>\n",
              "      <td>7.0</td>\n",
              "      <td>0.2360</td>\n",
              "      <td>family, friend, positive, death, case, test, r...</td>\n",
              "      <td>working arrangement next youtube music video t...</td>\n",
              "    </tr>\n",
              "    <tr>\n",
              "      <th>8</th>\n",
              "      <td>8.0</td>\n",
              "      <td>0.1439</td>\n",
              "      <td>check, night, watch, video, good, message, yes...</td>\n",
              "      <td>tonight outside lenoxhill heroes hear us makes...</td>\n",
              "    </tr>\n",
              "    <tr>\n",
              "      <th>9</th>\n",
              "      <td>9.0</td>\n",
              "      <td>0.1811</td>\n",
              "      <td>work, give, hard, smile, happen, challenge, ma...</td>\n",
              "      <td>what s getting 60smusic 70smusic 80smusic</td>\n",
              "    </tr>\n",
              "    <tr>\n",
              "      <th>10</th>\n",
              "      <td>10.0</td>\n",
              "      <td>0.1229</td>\n",
              "      <td>day, happy, start, enjoy, beautiful, birthday,...</td>\n",
              "      <td>even though stressful hectic i m missing whole...</td>\n",
              "    </tr>\n",
              "    <tr>\n",
              "      <th>11</th>\n",
              "      <td>11.0</td>\n",
              "      <td>0.1700</td>\n",
              "      <td>training, ready, gym, find, train, online, wom...</td>\n",
              "      <td>day 32 get today every single day can it s ble...</td>\n",
              "    </tr>\n",
              "    <tr>\n",
              "      <th>12</th>\n",
              "      <td>12.0</td>\n",
              "      <td>0.2412</td>\n",
              "      <td>friend, listen, big, hand, game, lose, head, r...</td>\n",
              "      <td>NaN</td>\n",
              "    </tr>\n",
              "    <tr>\n",
              "      <th>13</th>\n",
              "      <td>13.0</td>\n",
              "      <td>0.1846</td>\n",
              "      <td>world, place, put, remember, hope, lot, story,...</td>\n",
              "      <td>sunset hudson composed masatora goya quiet roc...</td>\n",
              "    </tr>\n",
              "    <tr>\n",
              "      <th>14</th>\n",
              "      <td>14.0</td>\n",
              "      <td>0.2716</td>\n",
              "      <td>live, tonight, pm, join, meditation, share, mu...</td>\n",
              "      <td>results 30 minute session waiting for book app...</td>\n",
              "    </tr>\n",
              "    <tr>\n",
              "      <th>15</th>\n",
              "      <td>15.0</td>\n",
              "      <td>0.1924</td>\n",
              "      <td>essential, support, care, worker, health, cont...</td>\n",
              "      <td>monsta chick workout row 800m run 800m push up...</td>\n",
              "    </tr>\n",
              "    <tr>\n",
              "      <th>16</th>\n",
              "      <td>16.0</td>\n",
              "      <td>0.1663</td>\n",
              "      <td>order, free, call, open, food, sign, eye, stud...</td>\n",
              "      <td>fitness family miami vlog pt 2 miami beach flo...</td>\n",
              "    </tr>\n",
              "    <tr>\n",
              "      <th>17</th>\n",
              "      <td>17.0</td>\n",
              "      <td>0.1762</td>\n",
              "      <td>love, great, guy, amazing, team, send, heart, ...</td>\n",
              "      <td>NaN</td>\n",
              "    </tr>\n",
              "    <tr>\n",
              "      <th>18</th>\n",
              "      <td>18.0</td>\n",
              "      <td>0.1711</td>\n",
              "      <td>today, wait, book, link, bio, miss, session, t...</td>\n",
              "      <td>NaN</td>\n",
              "    </tr>\n",
              "    <tr>\n",
              "      <th>19</th>\n",
              "      <td>19.0</td>\n",
              "      <td>0.2078</td>\n",
              "      <td>run, move, walk, eat, bad, easy, forward, mile...</td>\n",
              "      <td>NaN</td>\n",
              "    </tr>\n",
              "    <tr>\n",
              "      <th>20</th>\n",
              "      <td>20.0</td>\n",
              "      <td>0.1565</td>\n",
              "      <td>feel, back, leave, important, double, energy, ...</td>\n",
              "      <td>wow need basic t shirts them chatham ontario</td>\n",
              "    </tr>\n",
              "    <tr>\n",
              "      <th>21</th>\n",
              "      <td>21.0</td>\n",
              "      <td>0.1682</td>\n",
              "      <td>week, class, month, kid, virtual, join, dance,...</td>\n",
              "      <td>NaN</td>\n",
              "    </tr>\n",
              "    <tr>\n",
              "      <th>22</th>\n",
              "      <td>22.0</td>\n",
              "      <td>0.1672</td>\n",
              "      <td>stop, learn, start, real, fear, part, close, b...</td>\n",
              "      <td>keep report victory coming mouth going magnify...</td>\n",
              "    </tr>\n",
              "    <tr>\n",
              "      <th>23</th>\n",
              "      <td>23.0</td>\n",
              "      <td>0.2699</td>\n",
              "      <td>set, exercise, minute, push, side, rest, leg, ...</td>\n",
              "      <td>NaN</td>\n",
              "    </tr>\n",
              "    <tr>\n",
              "      <th>24</th>\n",
              "      <td>24.0</td>\n",
              "      <td>0.1487</td>\n",
              "      <td>stay, home, safe, healthy, fit, season, active...</td>\n",
              "      <td>know needed things 2 weeks ago way buy another...</td>\n",
              "    </tr>\n",
              "    <tr>\n",
              "      <th>25</th>\n",
              "      <td>25.0</td>\n",
              "      <td>0.2194</td>\n",
              "      <td>workout, body, strong, goal, high, focus, buil...</td>\n",
              "      <td>NaN</td>\n",
              "    </tr>\n",
              "  </tbody>\n",
              "</table>\n",
              "</div>"
            ],
            "text/plain": [
              "    Topic_Num  ...                                               Text\n",
              "0         0.0  ...            isolation outreach clinics full effect \n",
              "1         1.0  ...     new sketch outside inside remember go outside \n",
              "2         2.0  ...  great weekend everyone need serious workout co...\n",
              "3         3.0  ...                                share book saturday\n",
              "4         4.0  ...  it s 7pm april 10th nightly clap essential wor...\n",
              "5         5.0  ...                                                NaN\n",
              "6         6.0  ...                         inhale future exhale past \n",
              "7         7.0  ...  working arrangement next youtube music video t...\n",
              "8         8.0  ...  tonight outside lenoxhill heroes hear us makes...\n",
              "9         9.0  ...         what s getting 60smusic 70smusic 80smusic \n",
              "10       10.0  ...  even though stressful hectic i m missing whole...\n",
              "11       11.0  ...  day 32 get today every single day can it s ble...\n",
              "12       12.0  ...                                                NaN\n",
              "13       13.0  ...  sunset hudson composed masatora goya quiet roc...\n",
              "14       14.0  ...  results 30 minute session waiting for book app...\n",
              "15       15.0  ...  monsta chick workout row 800m run 800m push up...\n",
              "16       16.0  ...  fitness family miami vlog pt 2 miami beach flo...\n",
              "17       17.0  ...                                                NaN\n",
              "18       18.0  ...                                                NaN\n",
              "19       19.0  ...                                                NaN\n",
              "20       20.0  ...       wow need basic t shirts them chatham ontario\n",
              "21       21.0  ...                                                NaN\n",
              "22       22.0  ...  keep report victory coming mouth going magnify...\n",
              "23       23.0  ...                                                NaN\n",
              "24       24.0  ...  know needed things 2 weeks ago way buy another...\n",
              "25       25.0  ...                                                NaN\n",
              "\n",
              "[26 rows x 4 columns]"
            ]
          },
          "metadata": {
            "tags": []
          },
          "execution_count": 268
        }
      ]
    },
    {
      "cell_type": "markdown",
      "metadata": {
        "id": "VW8Cny5FUT5T",
        "colab_type": "text"
      },
      "source": [
        "The tabular output above actually has 25 rows, one each for a topic. It has the topic number, the keywords, and the most representative document. The Perc_Contribution column is nothing but the percentage contribution of the topic in the given document."
      ]
    },
    {
      "cell_type": "markdown",
      "metadata": {
        "id": "CoxWN91qfvbF",
        "colab_type": "text"
      },
      "source": [
        "### Topic distribution across documents\n",
        "Finally, we want to understand the volume and distribution of topics in order to judge how widely it was discussed. The below table exposes that information."
      ]
    },
    {
      "cell_type": "code",
      "metadata": {
        "id": "mPYSQZIOGBOb",
        "colab_type": "code",
        "colab": {
          "base_uri": "https://localhost:8080/",
          "height": 1000
        },
        "outputId": "2aeab3c5-bd95-4402-defd-6a06ab5529b9"
      },
      "source": [
        "# Number of Documents for Each Topic\n",
        "topic_counts = df_topic_sents_keywords['Dominant_Topic'].value_counts()\n",
        "\n",
        "#Percentage of Documents for Each Topic\n",
        "topic_contribution = round(topic_counts/topic_counts.sum(), 4)\n",
        "\n",
        "# Topic Number and Keywords\n",
        "topic_num_keywords = df_topic_sents_keywords[['Dominant_Topic', 'Topic_Keywords']]\n",
        "\n",
        "# Concatenate Column wise\n",
        "df_dominant_topics = pd.concat([topic_num_keywords, topic_counts, topic_contribution], axis=1)\n",
        "\n",
        "# Change Column names\n",
        "df_dominant_topics.columns = ['Dominant_Topic', 'Topic_Keywords', 'Num_Documents', 'Perc_Documents']\n",
        "df_dominant_topics=df_dominant_topics.drop_duplicates()\n",
        "# Show\n",
        "df_dominant_topics"
      ],
      "execution_count": null,
      "outputs": [
        {
          "output_type": "execute_result",
          "data": {
            "text/html": [
              "<div>\n",
              "<style scoped>\n",
              "    .dataframe tbody tr th:only-of-type {\n",
              "        vertical-align: middle;\n",
              "    }\n",
              "\n",
              "    .dataframe tbody tr th {\n",
              "        vertical-align: top;\n",
              "    }\n",
              "\n",
              "    .dataframe thead th {\n",
              "        text-align: right;\n",
              "    }\n",
              "</style>\n",
              "<table border=\"1\" class=\"dataframe\">\n",
              "  <thead>\n",
              "    <tr style=\"text-align: right;\">\n",
              "      <th></th>\n",
              "      <th>Dominant_Topic</th>\n",
              "      <th>Topic_Keywords</th>\n",
              "      <th>Num_Documents</th>\n",
              "      <th>Perc_Documents</th>\n",
              "    </tr>\n",
              "  </thead>\n",
              "  <tbody>\n",
              "    <tr>\n",
              "      <th>0.0</th>\n",
              "      <td>4.0</td>\n",
              "      <td>time, year, follow, post, hour, step, turn, ag...</td>\n",
              "      <td>5932.0</td>\n",
              "      <td>0.1856</td>\n",
              "    </tr>\n",
              "    <tr>\n",
              "      <th>1.0</th>\n",
              "      <td>7.0</td>\n",
              "      <td>family, friend, positive, death, case, test, r...</td>\n",
              "      <td>1268.0</td>\n",
              "      <td>0.0397</td>\n",
              "    </tr>\n",
              "    <tr>\n",
              "      <th>2.0</th>\n",
              "      <td>22.0</td>\n",
              "      <td>stop, learn, start, real, fear, part, close, b...</td>\n",
              "      <td>1200.0</td>\n",
              "      <td>0.0375</td>\n",
              "    </tr>\n",
              "    <tr>\n",
              "      <th>3.0</th>\n",
              "      <td>3.0</td>\n",
              "      <td>mind, bring, moment, create, full, thought, dr...</td>\n",
              "      <td>1339.0</td>\n",
              "      <td>0.0419</td>\n",
              "    </tr>\n",
              "    <tr>\n",
              "      <th>4.0</th>\n",
              "      <td>2.0</td>\n",
              "      <td>face, social, make, wear, weekend, mask, pract...</td>\n",
              "      <td>1275.0</td>\n",
              "      <td>0.0399</td>\n",
              "    </tr>\n",
              "    <tr>\n",
              "      <th>5.0</th>\n",
              "      <td>20.0</td>\n",
              "      <td>feel, back, leave, important, double, energy, ...</td>\n",
              "      <td>1156.0</td>\n",
              "      <td>0.0362</td>\n",
              "    </tr>\n",
              "    <tr>\n",
              "      <th>6.0</th>\n",
              "      <td>9.0</td>\n",
              "      <td>work, give, hard, smile, happen, challenge, ma...</td>\n",
              "      <td>1124.0</td>\n",
              "      <td>0.0352</td>\n",
              "    </tr>\n",
              "    <tr>\n",
              "      <th>7.0</th>\n",
              "      <td>25.0</td>\n",
              "      <td>workout, body, strong, goal, high, focus, buil...</td>\n",
              "      <td>1004.0</td>\n",
              "      <td>0.0314</td>\n",
              "    </tr>\n",
              "    <tr>\n",
              "      <th>8.0</th>\n",
              "      <td>7.0</td>\n",
              "      <td>family, friend, positive, death, case, test, r...</td>\n",
              "      <td>1205.0</td>\n",
              "      <td>0.0377</td>\n",
              "    </tr>\n",
              "    <tr>\n",
              "      <th>9.0</th>\n",
              "      <td>15.0</td>\n",
              "      <td>essential, support, care, worker, health, cont...</td>\n",
              "      <td>1231.0</td>\n",
              "      <td>0.0385</td>\n",
              "    </tr>\n",
              "    <tr>\n",
              "      <th>10.0</th>\n",
              "      <td>2.0</td>\n",
              "      <td>face, social, make, wear, weekend, mask, pract...</td>\n",
              "      <td>1242.0</td>\n",
              "      <td>0.0389</td>\n",
              "    </tr>\n",
              "    <tr>\n",
              "      <th>11.0</th>\n",
              "      <td>4.0</td>\n",
              "      <td>time, year, follow, post, hour, step, turn, ag...</td>\n",
              "      <td>1015.0</td>\n",
              "      <td>0.0317</td>\n",
              "    </tr>\n",
              "    <tr>\n",
              "      <th>12.0</th>\n",
              "      <td>0.0</td>\n",
              "      <td>people, life, change, die, virus, save, kill, ...</td>\n",
              "      <td>1048.0</td>\n",
              "      <td>0.0328</td>\n",
              "    </tr>\n",
              "    <tr>\n",
              "      <th>13.0</th>\n",
              "      <td>19.0</td>\n",
              "      <td>run, move, walk, eat, bad, easy, forward, mile...</td>\n",
              "      <td>913.0</td>\n",
              "      <td>0.0286</td>\n",
              "    </tr>\n",
              "    <tr>\n",
              "      <th>14.0</th>\n",
              "      <td>14.0</td>\n",
              "      <td>live, tonight, pm, join, meditation, share, mu...</td>\n",
              "      <td>932.0</td>\n",
              "      <td>0.0292</td>\n",
              "    </tr>\n",
              "    <tr>\n",
              "      <th>15.0</th>\n",
              "      <td>8.0</td>\n",
              "      <td>check, night, watch, video, good, message, yes...</td>\n",
              "      <td>992.0</td>\n",
              "      <td>0.0310</td>\n",
              "    </tr>\n",
              "    <tr>\n",
              "      <th>16.0</th>\n",
              "      <td>25.0</td>\n",
              "      <td>workout, body, strong, goal, high, focus, buil...</td>\n",
              "      <td>881.0</td>\n",
              "      <td>0.0276</td>\n",
              "    </tr>\n",
              "    <tr>\n",
              "      <th>17.0</th>\n",
              "      <td>1.0</td>\n",
              "      <td>thing, make, end, talk, person, quarantine, gr...</td>\n",
              "      <td>998.0</td>\n",
              "      <td>0.0312</td>\n",
              "    </tr>\n",
              "    <tr>\n",
              "      <th>18.0</th>\n",
              "      <td>8.0</td>\n",
              "      <td>check, night, watch, video, good, message, yes...</td>\n",
              "      <td>834.0</td>\n",
              "      <td>0.0261</td>\n",
              "    </tr>\n",
              "    <tr>\n",
              "      <th>19.0</th>\n",
              "      <td>22.0</td>\n",
              "      <td>stop, learn, start, real, fear, part, close, b...</td>\n",
              "      <td>953.0</td>\n",
              "      <td>0.0298</td>\n",
              "    </tr>\n",
              "    <tr>\n",
              "      <th>20.0</th>\n",
              "      <td>0.0</td>\n",
              "      <td>people, life, change, die, virus, save, kill, ...</td>\n",
              "      <td>916.0</td>\n",
              "      <td>0.0287</td>\n",
              "    </tr>\n",
              "    <tr>\n",
              "      <th>21.0</th>\n",
              "      <td>6.0</td>\n",
              "      <td>show, long, play, read, lol, line, picture, bu...</td>\n",
              "      <td>838.0</td>\n",
              "      <td>0.0262</td>\n",
              "    </tr>\n",
              "    <tr>\n",
              "      <th>22.0</th>\n",
              "      <td>19.0</td>\n",
              "      <td>run, move, walk, eat, bad, easy, forward, mile...</td>\n",
              "      <td>1028.0</td>\n",
              "      <td>0.0322</td>\n",
              "    </tr>\n",
              "    <tr>\n",
              "      <th>23.0</th>\n",
              "      <td>0.0</td>\n",
              "      <td>people, life, change, die, virus, save, kill, ...</td>\n",
              "      <td>851.0</td>\n",
              "      <td>0.0266</td>\n",
              "    </tr>\n",
              "    <tr>\n",
              "      <th>24.0</th>\n",
              "      <td>0.0</td>\n",
              "      <td>people, life, change, die, virus, save, kill, ...</td>\n",
              "      <td>1056.0</td>\n",
              "      <td>0.0330</td>\n",
              "    </tr>\n",
              "    <tr>\n",
              "      <th>25.0</th>\n",
              "      <td>17.0</td>\n",
              "      <td>love, great, guy, amazing, team, send, heart, ...</td>\n",
              "      <td>738.0</td>\n",
              "      <td>0.0231</td>\n",
              "    </tr>\n",
              "    <tr>\n",
              "      <th>26.0</th>\n",
              "      <td>3.0</td>\n",
              "      <td>mind, bring, moment, create, full, thought, dr...</td>\n",
              "      <td>NaN</td>\n",
              "      <td>NaN</td>\n",
              "    </tr>\n",
              "    <tr>\n",
              "      <th>27.0</th>\n",
              "      <td>0.0</td>\n",
              "      <td>people, life, change, die, virus, save, kill, ...</td>\n",
              "      <td>NaN</td>\n",
              "      <td>NaN</td>\n",
              "    </tr>\n",
              "    <tr>\n",
              "      <th>28.0</th>\n",
              "      <td>22.0</td>\n",
              "      <td>stop, learn, start, real, fear, part, close, b...</td>\n",
              "      <td>NaN</td>\n",
              "      <td>NaN</td>\n",
              "    </tr>\n",
              "    <tr>\n",
              "      <th>33.0</th>\n",
              "      <td>10.0</td>\n",
              "      <td>day, happy, start, enjoy, beautiful, birthday,...</td>\n",
              "      <td>NaN</td>\n",
              "      <td>NaN</td>\n",
              "    </tr>\n",
              "    <tr>\n",
              "      <th>34.0</th>\n",
              "      <td>2.0</td>\n",
              "      <td>face, social, make, wear, weekend, mask, pract...</td>\n",
              "      <td>NaN</td>\n",
              "      <td>NaN</td>\n",
              "    </tr>\n",
              "    <tr>\n",
              "      <th>35.0</th>\n",
              "      <td>19.0</td>\n",
              "      <td>run, move, walk, eat, bad, easy, forward, mile...</td>\n",
              "      <td>NaN</td>\n",
              "      <td>NaN</td>\n",
              "    </tr>\n",
              "    <tr>\n",
              "      <th>37.0</th>\n",
              "      <td>15.0</td>\n",
              "      <td>essential, support, care, worker, health, cont...</td>\n",
              "      <td>NaN</td>\n",
              "      <td>NaN</td>\n",
              "    </tr>\n",
              "    <tr>\n",
              "      <th>39.0</th>\n",
              "      <td>20.0</td>\n",
              "      <td>feel, back, leave, important, double, energy, ...</td>\n",
              "      <td>NaN</td>\n",
              "      <td>NaN</td>\n",
              "    </tr>\n",
              "    <tr>\n",
              "      <th>42.0</th>\n",
              "      <td>13.0</td>\n",
              "      <td>world, place, put, remember, hope, lot, story,...</td>\n",
              "      <td>NaN</td>\n",
              "      <td>NaN</td>\n",
              "    </tr>\n",
              "    <tr>\n",
              "      <th>43.0</th>\n",
              "      <td>8.0</td>\n",
              "      <td>check, night, watch, video, good, message, yes...</td>\n",
              "      <td>NaN</td>\n",
              "      <td>NaN</td>\n",
              "    </tr>\n",
              "    <tr>\n",
              "      <th>44.0</th>\n",
              "      <td>17.0</td>\n",
              "      <td>love, great, guy, amazing, team, send, heart, ...</td>\n",
              "      <td>NaN</td>\n",
              "      <td>NaN</td>\n",
              "    </tr>\n",
              "    <tr>\n",
              "      <th>52.0</th>\n",
              "      <td>4.0</td>\n",
              "      <td>time, year, follow, post, hour, step, turn, ag...</td>\n",
              "      <td>NaN</td>\n",
              "      <td>NaN</td>\n",
              "    </tr>\n",
              "    <tr>\n",
              "      <th>55.0</th>\n",
              "      <td>6.0</td>\n",
              "      <td>show, long, play, read, lol, line, picture, bu...</td>\n",
              "      <td>NaN</td>\n",
              "      <td>NaN</td>\n",
              "    </tr>\n",
              "    <tr>\n",
              "      <th>60.0</th>\n",
              "      <td>16.0</td>\n",
              "      <td>order, free, call, open, food, sign, eye, stud...</td>\n",
              "      <td>NaN</td>\n",
              "      <td>NaN</td>\n",
              "    </tr>\n",
              "    <tr>\n",
              "      <th>62.0</th>\n",
              "      <td>1.0</td>\n",
              "      <td>thing, make, end, talk, person, quarantine, gr...</td>\n",
              "      <td>NaN</td>\n",
              "      <td>NaN</td>\n",
              "    </tr>\n",
              "    <tr>\n",
              "      <th>68.0</th>\n",
              "      <td>12.0</td>\n",
              "      <td>friend, listen, big, hand, game, lose, head, r...</td>\n",
              "      <td>NaN</td>\n",
              "      <td>NaN</td>\n",
              "    </tr>\n",
              "    <tr>\n",
              "      <th>73.0</th>\n",
              "      <td>7.0</td>\n",
              "      <td>family, friend, positive, death, case, test, r...</td>\n",
              "      <td>NaN</td>\n",
              "      <td>NaN</td>\n",
              "    </tr>\n",
              "    <tr>\n",
              "      <th>89.0</th>\n",
              "      <td>24.0</td>\n",
              "      <td>stay, home, safe, healthy, fit, season, active...</td>\n",
              "      <td>NaN</td>\n",
              "      <td>NaN</td>\n",
              "    </tr>\n",
              "    <tr>\n",
              "      <th>92.0</th>\n",
              "      <td>11.0</td>\n",
              "      <td>training, ready, gym, find, train, online, wom...</td>\n",
              "      <td>NaN</td>\n",
              "      <td>NaN</td>\n",
              "    </tr>\n",
              "    <tr>\n",
              "      <th>98.0</th>\n",
              "      <td>18.0</td>\n",
              "      <td>today, wait, book, link, bio, miss, session, t...</td>\n",
              "      <td>NaN</td>\n",
              "      <td>NaN</td>\n",
              "    </tr>\n",
              "    <tr>\n",
              "      <th>127.0</th>\n",
              "      <td>9.0</td>\n",
              "      <td>work, give, hard, smile, happen, challenge, ma...</td>\n",
              "      <td>NaN</td>\n",
              "      <td>NaN</td>\n",
              "    </tr>\n",
              "    <tr>\n",
              "      <th>137.0</th>\n",
              "      <td>23.0</td>\n",
              "      <td>set, exercise, minute, push, side, rest, leg, ...</td>\n",
              "      <td>NaN</td>\n",
              "      <td>NaN</td>\n",
              "    </tr>\n",
              "    <tr>\n",
              "      <th>145.0</th>\n",
              "      <td>5.0</td>\n",
              "      <td>good, morning, fitness, daily, hit, yoga, memb...</td>\n",
              "      <td>NaN</td>\n",
              "      <td>NaN</td>\n",
              "    </tr>\n",
              "    <tr>\n",
              "      <th>179.0</th>\n",
              "      <td>21.0</td>\n",
              "      <td>week, class, month, kid, virtual, join, dance,...</td>\n",
              "      <td>NaN</td>\n",
              "      <td>NaN</td>\n",
              "    </tr>\n",
              "    <tr>\n",
              "      <th>227.0</th>\n",
              "      <td>14.0</td>\n",
              "      <td>live, tonight, pm, join, meditation, share, mu...</td>\n",
              "      <td>NaN</td>\n",
              "      <td>NaN</td>\n",
              "    </tr>\n",
              "    <tr>\n",
              "      <th>240.0</th>\n",
              "      <td>25.0</td>\n",
              "      <td>workout, body, strong, goal, high, focus, buil...</td>\n",
              "      <td>NaN</td>\n",
              "      <td>NaN</td>\n",
              "    </tr>\n",
              "  </tbody>\n",
              "</table>\n",
              "</div>"
            ],
            "text/plain": [
              "       Dominant_Topic  ... Perc_Documents\n",
              "0.0               4.0  ...         0.1856\n",
              "1.0               7.0  ...         0.0397\n",
              "2.0              22.0  ...         0.0375\n",
              "3.0               3.0  ...         0.0419\n",
              "4.0               2.0  ...         0.0399\n",
              "5.0              20.0  ...         0.0362\n",
              "6.0               9.0  ...         0.0352\n",
              "7.0              25.0  ...         0.0314\n",
              "8.0               7.0  ...         0.0377\n",
              "9.0              15.0  ...         0.0385\n",
              "10.0              2.0  ...         0.0389\n",
              "11.0              4.0  ...         0.0317\n",
              "12.0              0.0  ...         0.0328\n",
              "13.0             19.0  ...         0.0286\n",
              "14.0             14.0  ...         0.0292\n",
              "15.0              8.0  ...         0.0310\n",
              "16.0             25.0  ...         0.0276\n",
              "17.0              1.0  ...         0.0312\n",
              "18.0              8.0  ...         0.0261\n",
              "19.0             22.0  ...         0.0298\n",
              "20.0              0.0  ...         0.0287\n",
              "21.0              6.0  ...         0.0262\n",
              "22.0             19.0  ...         0.0322\n",
              "23.0              0.0  ...         0.0266\n",
              "24.0              0.0  ...         0.0330\n",
              "25.0             17.0  ...         0.0231\n",
              "26.0              3.0  ...            NaN\n",
              "27.0              0.0  ...            NaN\n",
              "28.0             22.0  ...            NaN\n",
              "33.0             10.0  ...            NaN\n",
              "34.0              2.0  ...            NaN\n",
              "35.0             19.0  ...            NaN\n",
              "37.0             15.0  ...            NaN\n",
              "39.0             20.0  ...            NaN\n",
              "42.0             13.0  ...            NaN\n",
              "43.0              8.0  ...            NaN\n",
              "44.0             17.0  ...            NaN\n",
              "52.0              4.0  ...            NaN\n",
              "55.0              6.0  ...            NaN\n",
              "60.0             16.0  ...            NaN\n",
              "62.0              1.0  ...            NaN\n",
              "68.0             12.0  ...            NaN\n",
              "73.0              7.0  ...            NaN\n",
              "89.0             24.0  ...            NaN\n",
              "92.0             11.0  ...            NaN\n",
              "98.0             18.0  ...            NaN\n",
              "127.0             9.0  ...            NaN\n",
              "137.0            23.0  ...            NaN\n",
              "145.0             5.0  ...            NaN\n",
              "179.0            21.0  ...            NaN\n",
              "227.0            14.0  ...            NaN\n",
              "240.0            25.0  ...            NaN\n",
              "\n",
              "[52 rows x 4 columns]"
            ]
          },
          "metadata": {
            "tags": []
          },
          "execution_count": 276
        }
      ]
    },
    {
      "cell_type": "markdown",
      "metadata": {
        "id": "P7ZAWhBOf37T",
        "colab_type": "text"
      },
      "source": [
        "## Topic modelling analysis"
      ]
    },
    {
      "cell_type": "code",
      "metadata": {
        "id": "QSfT_G1WXhIa",
        "colab_type": "code",
        "colab": {
          "base_uri": "https://localhost:8080/",
          "height": 52
        },
        "outputId": "45adef32-4b70-4d42-d3ed-3fdcd7f6814a"
      },
      "source": [
        "print(df_dominant_topic.shape)\n",
        "print(df.shape)"
      ],
      "execution_count": null,
      "outputs": [
        {
          "output_type": "stream",
          "text": [
            "(31969, 5)\n",
            "(26427, 14)\n"
          ],
          "name": "stdout"
        }
      ]
    },
    {
      "cell_type": "code",
      "metadata": {
        "id": "y08avkB3XvT5",
        "colab_type": "code",
        "colab": {}
      },
      "source": [
        "topic_names=sent_topics_sorteddf_mallet[\"Keywords\"]"
      ],
      "execution_count": null,
      "outputs": []
    },
    {
      "cell_type": "code",
      "metadata": {
        "id": "u4sVD0TxY8xT",
        "colab_type": "code",
        "colab": {}
      },
      "source": [
        "topic_names=list(topic_names)"
      ],
      "execution_count": null,
      "outputs": []
    },
    {
      "cell_type": "code",
      "metadata": {
        "id": "17g1-MrKZHjt",
        "colab_type": "code",
        "colab": {
          "base_uri": "https://localhost:8080/",
          "height": 54
        },
        "outputId": "cd48f866-04a5-4d3b-c98f-16fbe1a1c33a"
      },
      "source": [
        "print(topic_names)"
      ],
      "execution_count": null,
      "outputs": [
        {
          "output_type": "stream",
          "text": [
            "['people, life, change, die, virus, save, kill, normal, sick, action', 'thing, make, end, talk, person, quarantine, grow, win, reason, light', 'face, social, make, wear, weekend, mask, practice, distancing, distance, park', 'mind, bring, moment, create, full, thought, dream, power, experience, find', 'time, year, follow, post, hour, step, turn, ago, spend, provide', 'good, morning, fitness, daily, hit, yoga, member, early, live, wake', 'show, long, play, read, lol, line, picture, buy, fall, store', 'family, friend, positive, death, case, test, rise, state, number, black', 'check, night, watch, video, good, message, yesterday, full, late, youtube', 'work, give, hard, smile, happen, challenge, man, pay, beat, tough', 'day, happy, start, enjoy, beautiful, birthday, celebrate, week, movement, begin', 'training, ready, gym, find, train, online, woman, personal, top, fun', 'friend, listen, big, hand, game, lose, head, repost, shoot, awareness', 'world, place, put, remember, hope, lot, story, hear, forget, true', 'live, tonight, pm, join, meditation, share, music, word, favorite, tune', 'essential, support, care, worker, health, continue, fight, community, risk, business', 'order, free, call, open, food, sign, eye, studio, delivery, pick', 'love, great, guy, amazing, team, send, heart, job, nice, super', 'today, wait, book, link, bio, miss, session, tomorrow, visit, website', 'run, move, walk, eat, bad, easy, forward, mile, pretty, baby', 'feel, back, leave, important, double, energy, finally, tap, client, box', 'week, class, month, kid, virtual, join, dance, tomorrow, teach, photo', 'stop, learn, start, real, fear, part, close, break, school, share', 'set, exercise, minute, push, side, rest, leg, squat, schedule, info', 'stay, home, safe, healthy, fit, season, active, update, pray, inside', 'workout, body, strong, goal, high, focus, build, strength, add, level']\n"
          ],
          "name": "stdout"
        }
      ]
    },
    {
      "cell_type": "markdown",
      "metadata": {
        "id": "vSroWZNJgL4d",
        "colab_type": "text"
      },
      "source": [
        "### Combining the topic names with or original dataset"
      ]
    },
    {
      "cell_type": "code",
      "metadata": {
        "id": "cu1LsOp-Zqhz",
        "colab_type": "code",
        "colab": {
          "base_uri": "https://localhost:8080/",
          "height": 394
        },
        "outputId": "82b93b4b-5abd-4289-8be6-fc2521a240b5"
      },
      "source": [
        "topics_docs = []\n",
        "for m in ldamallet[corpus]:\n",
        "    topics_docs.append(m)\n",
        "\n",
        "train_vecs = []\n",
        "for i in topics_docs:\n",
        "    topic_vec = [j[1] for j in i]\n",
        "    train_vecs.append(topic_vec) \n",
        "\n",
        "topic_dis = pd.DataFrame(train_vecs,columns=topic_names)\n",
        "topic_dis.head()\n",
        "\n",
        "df= df.join(topic_dis)\n",
        "df.head(2)"
      ],
      "execution_count": null,
      "outputs": [
        {
          "output_type": "execute_result",
          "data": {
            "text/html": [
              "<div>\n",
              "<style scoped>\n",
              "    .dataframe tbody tr th:only-of-type {\n",
              "        vertical-align: middle;\n",
              "    }\n",
              "\n",
              "    .dataframe tbody tr th {\n",
              "        vertical-align: top;\n",
              "    }\n",
              "\n",
              "    .dataframe thead th {\n",
              "        text-align: right;\n",
              "    }\n",
              "</style>\n",
              "<table border=\"1\" class=\"dataframe\">\n",
              "  <thead>\n",
              "    <tr style=\"text-align: right;\">\n",
              "      <th></th>\n",
              "      <th>User</th>\n",
              "      <th>Text</th>\n",
              "      <th>Retweets</th>\n",
              "      <th>Favorites</th>\n",
              "      <th>HashTags</th>\n",
              "      <th>City</th>\n",
              "      <th>date</th>\n",
              "      <th>time</th>\n",
              "      <th>month_year</th>\n",
              "      <th>text_nlp</th>\n",
              "      <th>text_len</th>\n",
              "      <th>word_count</th>\n",
              "      <th>polarity</th>\n",
              "      <th>sentiment</th>\n",
              "      <th>people, life, change, die, virus, save, kill, normal, sick, action</th>\n",
              "      <th>thing, make, end, talk, person, quarantine, grow, win, reason, light</th>\n",
              "      <th>face, social, make, wear, weekend, mask, practice, distancing, distance, park</th>\n",
              "      <th>mind, bring, moment, create, full, thought, dream, power, experience, find</th>\n",
              "      <th>time, year, follow, post, hour, step, turn, ago, spend, provide</th>\n",
              "      <th>good, morning, fitness, daily, hit, yoga, member, early, live, wake</th>\n",
              "      <th>show, long, play, read, lol, line, picture, buy, fall, store</th>\n",
              "      <th>family, friend, positive, death, case, test, rise, state, number, black</th>\n",
              "      <th>check, night, watch, video, good, message, yesterday, full, late, youtube</th>\n",
              "      <th>work, give, hard, smile, happen, challenge, man, pay, beat, tough</th>\n",
              "      <th>day, happy, start, enjoy, beautiful, birthday, celebrate, week, movement, begin</th>\n",
              "      <th>training, ready, gym, find, train, online, woman, personal, top, fun</th>\n",
              "      <th>friend, listen, big, hand, game, lose, head, repost, shoot, awareness</th>\n",
              "      <th>world, place, put, remember, hope, lot, story, hear, forget, true</th>\n",
              "      <th>live, tonight, pm, join, meditation, share, music, word, favorite, tune</th>\n",
              "      <th>essential, support, care, worker, health, continue, fight, community, risk, business</th>\n",
              "      <th>order, free, call, open, food, sign, eye, studio, delivery, pick</th>\n",
              "      <th>love, great, guy, amazing, team, send, heart, job, nice, super</th>\n",
              "      <th>today, wait, book, link, bio, miss, session, tomorrow, visit, website</th>\n",
              "      <th>run, move, walk, eat, bad, easy, forward, mile, pretty, baby</th>\n",
              "      <th>feel, back, leave, important, double, energy, finally, tap, client, box</th>\n",
              "      <th>week, class, month, kid, virtual, join, dance, tomorrow, teach, photo</th>\n",
              "      <th>stop, learn, start, real, fear, part, close, break, school, share</th>\n",
              "      <th>set, exercise, minute, push, side, rest, leg, squat, schedule, info</th>\n",
              "      <th>stay, home, safe, healthy, fit, season, active, update, pray, inside</th>\n",
              "      <th>workout, body, strong, goal, high, focus, build, strength, add, level</th>\n",
              "    </tr>\n",
              "  </thead>\n",
              "  <tbody>\n",
              "    <tr>\n",
              "      <th>0</th>\n",
              "      <td>michaelbarata</td>\n",
              "      <td>New Blog Post: True Connection #love #connecti...</td>\n",
              "      <td>0</td>\n",
              "      <td>0</td>\n",
              "      <td>#love #connection #fear #lawofattraction</td>\n",
              "      <td>NY</td>\n",
              "      <td>2020-07-11</td>\n",
              "      <td>16:29:35</td>\n",
              "      <td>2020-07</td>\n",
              "      <td>new blog post true connection</td>\n",
              "      <td>34</td>\n",
              "      <td>5</td>\n",
              "      <td>0.243182</td>\n",
              "      <td>positive</td>\n",
              "      <td>0.035613</td>\n",
              "      <td>0.035613</td>\n",
              "      <td>0.035613</td>\n",
              "      <td>0.035613</td>\n",
              "      <td>0.054131</td>\n",
              "      <td>0.03767</td>\n",
              "      <td>0.035613</td>\n",
              "      <td>0.035613</td>\n",
              "      <td>0.035613</td>\n",
              "      <td>0.03767</td>\n",
              "      <td>0.035613</td>\n",
              "      <td>0.035613</td>\n",
              "      <td>0.035613</td>\n",
              "      <td>0.054131</td>\n",
              "      <td>0.035613</td>\n",
              "      <td>0.035613</td>\n",
              "      <td>0.035613</td>\n",
              "      <td>0.035613</td>\n",
              "      <td>0.052073</td>\n",
              "      <td>0.035613</td>\n",
              "      <td>0.035613</td>\n",
              "      <td>0.035613</td>\n",
              "      <td>0.052073</td>\n",
              "      <td>0.035613</td>\n",
              "      <td>0.035613</td>\n",
              "      <td>0.035613</td>\n",
              "    </tr>\n",
              "    <tr>\n",
              "      <th>0</th>\n",
              "      <td>_TraceDollFace_</td>\n",
              "      <td>Oh a reunion heyyy #Alone</td>\n",
              "      <td>0</td>\n",
              "      <td>0</td>\n",
              "      <td>#Alone</td>\n",
              "      <td>NY</td>\n",
              "      <td>2020-07-11</td>\n",
              "      <td>19:43:21</td>\n",
              "      <td>2020-07</td>\n",
              "      <td>oh reunion heyyy</td>\n",
              "      <td>19</td>\n",
              "      <td>4</td>\n",
              "      <td>0.000000</td>\n",
              "      <td>neutral</td>\n",
              "      <td>0.035613</td>\n",
              "      <td>0.035613</td>\n",
              "      <td>0.035613</td>\n",
              "      <td>0.035613</td>\n",
              "      <td>0.054131</td>\n",
              "      <td>0.03767</td>\n",
              "      <td>0.035613</td>\n",
              "      <td>0.035613</td>\n",
              "      <td>0.035613</td>\n",
              "      <td>0.03767</td>\n",
              "      <td>0.035613</td>\n",
              "      <td>0.035613</td>\n",
              "      <td>0.035613</td>\n",
              "      <td>0.054131</td>\n",
              "      <td>0.035613</td>\n",
              "      <td>0.035613</td>\n",
              "      <td>0.035613</td>\n",
              "      <td>0.035613</td>\n",
              "      <td>0.052073</td>\n",
              "      <td>0.035613</td>\n",
              "      <td>0.035613</td>\n",
              "      <td>0.035613</td>\n",
              "      <td>0.052073</td>\n",
              "      <td>0.035613</td>\n",
              "      <td>0.035613</td>\n",
              "      <td>0.035613</td>\n",
              "    </tr>\n",
              "  </tbody>\n",
              "</table>\n",
              "</div>"
            ],
            "text/plain": [
              "              User  ... workout, body, strong, goal, high, focus, build, strength, add, level\n",
              "0    michaelbarata  ...                                           0.035613                   \n",
              "0  _TraceDollFace_  ...                                           0.035613                   \n",
              "\n",
              "[2 rows x 40 columns]"
            ]
          },
          "metadata": {
            "tags": []
          },
          "execution_count": 289
        }
      ]
    },
    {
      "cell_type": "code",
      "metadata": {
        "id": "RpvlinAIbApT",
        "colab_type": "code",
        "colab": {
          "base_uri": "https://localhost:8080/",
          "height": 34
        },
        "outputId": "039defea-e621-419a-f1f6-058d0707528e"
      },
      "source": [
        "df.shape"
      ],
      "execution_count": null,
      "outputs": [
        {
          "output_type": "execute_result",
          "data": {
            "text/plain": [
              "(26427, 40)"
            ]
          },
          "metadata": {
            "tags": []
          },
          "execution_count": 291
        }
      ]
    },
    {
      "cell_type": "markdown",
      "metadata": {
        "id": "_JvtmrtNgdWZ",
        "colab_type": "text"
      },
      "source": [
        "### Finding polarity of all 25 topics"
      ]
    },
    {
      "cell_type": "code",
      "metadata": {
        "id": "_YLD2JnparH9",
        "colab_type": "code",
        "colab": {
          "base_uri": "https://localhost:8080/",
          "height": 797
        },
        "outputId": "9da44252-0628-4d62-9195-9c3a5eeb632d"
      },
      "source": [
        "\n",
        "topic_list = df.columns[14:39]\n",
        "topic_mean = df.iloc[:,14:39].mean().values\n",
        "\n",
        "for i in range(len(topic_list)):\n",
        "    df[i] = np.where(df[topic_list[i]] > 0.08,1,0)\n",
        "    \n",
        "topic_polarity = list()\n",
        "for i in range(25):\n",
        "    topic_polarity.append(df[df[i]==1]['polarity'].mean())\n",
        "    \n",
        "topic_polarity = pd.DataFrame({'Topics':topic_list,'Polarity':topic_polarity})\n",
        "topic_polarity.sort_values(by = ['Polarity'],ascending=False)"
      ],
      "execution_count": null,
      "outputs": [
        {
          "output_type": "execute_result",
          "data": {
            "text/html": [
              "<div>\n",
              "<style scoped>\n",
              "    .dataframe tbody tr th:only-of-type {\n",
              "        vertical-align: middle;\n",
              "    }\n",
              "\n",
              "    .dataframe tbody tr th {\n",
              "        vertical-align: top;\n",
              "    }\n",
              "\n",
              "    .dataframe thead th {\n",
              "        text-align: right;\n",
              "    }\n",
              "</style>\n",
              "<table border=\"1\" class=\"dataframe\">\n",
              "  <thead>\n",
              "    <tr style=\"text-align: right;\">\n",
              "      <th></th>\n",
              "      <th>Topics</th>\n",
              "      <th>Polarity</th>\n",
              "    </tr>\n",
              "  </thead>\n",
              "  <tbody>\n",
              "    <tr>\n",
              "      <th>9</th>\n",
              "      <td>work, give, hard, smile, happen, challenge, ma...</td>\n",
              "      <td>0.168467</td>\n",
              "    </tr>\n",
              "    <tr>\n",
              "      <th>19</th>\n",
              "      <td>run, move, walk, eat, bad, easy, forward, mile...</td>\n",
              "      <td>0.168011</td>\n",
              "    </tr>\n",
              "    <tr>\n",
              "      <th>3</th>\n",
              "      <td>mind, bring, moment, create, full, thought, dr...</td>\n",
              "      <td>0.159847</td>\n",
              "    </tr>\n",
              "    <tr>\n",
              "      <th>14</th>\n",
              "      <td>live, tonight, pm, join, meditation, share, mu...</td>\n",
              "      <td>0.159484</td>\n",
              "    </tr>\n",
              "    <tr>\n",
              "      <th>13</th>\n",
              "      <td>world, place, put, remember, hope, lot, story,...</td>\n",
              "      <td>0.157494</td>\n",
              "    </tr>\n",
              "    <tr>\n",
              "      <th>12</th>\n",
              "      <td>friend, listen, big, hand, game, lose, head, r...</td>\n",
              "      <td>0.156550</td>\n",
              "    </tr>\n",
              "    <tr>\n",
              "      <th>5</th>\n",
              "      <td>good, morning, fitness, daily, hit, yoga, memb...</td>\n",
              "      <td>0.153532</td>\n",
              "    </tr>\n",
              "    <tr>\n",
              "      <th>21</th>\n",
              "      <td>week, class, month, kid, virtual, join, dance,...</td>\n",
              "      <td>0.151236</td>\n",
              "    </tr>\n",
              "    <tr>\n",
              "      <th>24</th>\n",
              "      <td>stay, home, safe, healthy, fit, season, active...</td>\n",
              "      <td>0.151195</td>\n",
              "    </tr>\n",
              "    <tr>\n",
              "      <th>17</th>\n",
              "      <td>love, great, guy, amazing, team, send, heart, ...</td>\n",
              "      <td>0.149954</td>\n",
              "    </tr>\n",
              "    <tr>\n",
              "      <th>11</th>\n",
              "      <td>training, ready, gym, find, train, online, wom...</td>\n",
              "      <td>0.144594</td>\n",
              "    </tr>\n",
              "    <tr>\n",
              "      <th>8</th>\n",
              "      <td>check, night, watch, video, good, message, yes...</td>\n",
              "      <td>0.143972</td>\n",
              "    </tr>\n",
              "    <tr>\n",
              "      <th>0</th>\n",
              "      <td>people, life, change, die, virus, save, kill, ...</td>\n",
              "      <td>0.143106</td>\n",
              "    </tr>\n",
              "    <tr>\n",
              "      <th>7</th>\n",
              "      <td>family, friend, positive, death, case, test, r...</td>\n",
              "      <td>0.142004</td>\n",
              "    </tr>\n",
              "    <tr>\n",
              "      <th>18</th>\n",
              "      <td>today, wait, book, link, bio, miss, session, t...</td>\n",
              "      <td>0.139812</td>\n",
              "    </tr>\n",
              "    <tr>\n",
              "      <th>4</th>\n",
              "      <td>time, year, follow, post, hour, step, turn, ag...</td>\n",
              "      <td>0.139528</td>\n",
              "    </tr>\n",
              "    <tr>\n",
              "      <th>23</th>\n",
              "      <td>set, exercise, minute, push, side, rest, leg, ...</td>\n",
              "      <td>0.139459</td>\n",
              "    </tr>\n",
              "    <tr>\n",
              "      <th>6</th>\n",
              "      <td>show, long, play, read, lol, line, picture, bu...</td>\n",
              "      <td>0.138886</td>\n",
              "    </tr>\n",
              "    <tr>\n",
              "      <th>10</th>\n",
              "      <td>day, happy, start, enjoy, beautiful, birthday,...</td>\n",
              "      <td>0.138324</td>\n",
              "    </tr>\n",
              "    <tr>\n",
              "      <th>15</th>\n",
              "      <td>essential, support, care, worker, health, cont...</td>\n",
              "      <td>0.137795</td>\n",
              "    </tr>\n",
              "    <tr>\n",
              "      <th>16</th>\n",
              "      <td>order, free, call, open, food, sign, eye, stud...</td>\n",
              "      <td>0.133019</td>\n",
              "    </tr>\n",
              "    <tr>\n",
              "      <th>2</th>\n",
              "      <td>face, social, make, wear, weekend, mask, pract...</td>\n",
              "      <td>0.119225</td>\n",
              "    </tr>\n",
              "    <tr>\n",
              "      <th>20</th>\n",
              "      <td>feel, back, leave, important, double, energy, ...</td>\n",
              "      <td>0.111858</td>\n",
              "    </tr>\n",
              "    <tr>\n",
              "      <th>22</th>\n",
              "      <td>stop, learn, start, real, fear, part, close, b...</td>\n",
              "      <td>0.104120</td>\n",
              "    </tr>\n",
              "    <tr>\n",
              "      <th>1</th>\n",
              "      <td>thing, make, end, talk, person, quarantine, gr...</td>\n",
              "      <td>0.082096</td>\n",
              "    </tr>\n",
              "  </tbody>\n",
              "</table>\n",
              "</div>"
            ],
            "text/plain": [
              "                                               Topics  Polarity\n",
              "9   work, give, hard, smile, happen, challenge, ma...  0.168467\n",
              "19  run, move, walk, eat, bad, easy, forward, mile...  0.168011\n",
              "3   mind, bring, moment, create, full, thought, dr...  0.159847\n",
              "14  live, tonight, pm, join, meditation, share, mu...  0.159484\n",
              "13  world, place, put, remember, hope, lot, story,...  0.157494\n",
              "12  friend, listen, big, hand, game, lose, head, r...  0.156550\n",
              "5   good, morning, fitness, daily, hit, yoga, memb...  0.153532\n",
              "21  week, class, month, kid, virtual, join, dance,...  0.151236\n",
              "24  stay, home, safe, healthy, fit, season, active...  0.151195\n",
              "17  love, great, guy, amazing, team, send, heart, ...  0.149954\n",
              "11  training, ready, gym, find, train, online, wom...  0.144594\n",
              "8   check, night, watch, video, good, message, yes...  0.143972\n",
              "0   people, life, change, die, virus, save, kill, ...  0.143106\n",
              "7   family, friend, positive, death, case, test, r...  0.142004\n",
              "18  today, wait, book, link, bio, miss, session, t...  0.139812\n",
              "4   time, year, follow, post, hour, step, turn, ag...  0.139528\n",
              "23  set, exercise, minute, push, side, rest, leg, ...  0.139459\n",
              "6   show, long, play, read, lol, line, picture, bu...  0.138886\n",
              "10  day, happy, start, enjoy, beautiful, birthday,...  0.138324\n",
              "15  essential, support, care, worker, health, cont...  0.137795\n",
              "16  order, free, call, open, food, sign, eye, stud...  0.133019\n",
              "2   face, social, make, wear, weekend, mask, pract...  0.119225\n",
              "20  feel, back, leave, important, double, energy, ...  0.111858\n",
              "22  stop, learn, start, real, fear, part, close, b...  0.104120\n",
              "1   thing, make, end, talk, person, quarantine, gr...  0.082096"
            ]
          },
          "metadata": {
            "tags": []
          },
          "execution_count": 293
        }
      ]
    },
    {
      "cell_type": "markdown",
      "metadata": {
        "id": "rgBOeeLimxV-",
        "colab_type": "text"
      },
      "source": [
        "Notebook created by **Archit Bansal**  \n",
        "*contact me:*\n",
        " * [Github](https://github.com/j-a-r-v-i )  \n",
        " * [linkedin](www.linkedin.com/in/archit-bansal-3248b0162)  \n",
        "\n",
        " Really grateful to **Aradhana** who helped me to complete my work  \n",
        " \n"
      ]
    },
    {
      "cell_type": "code",
      "metadata": {
        "id": "-k7-zPkgbUD7",
        "colab_type": "code",
        "colab": {}
      },
      "source": [
        ""
      ],
      "execution_count": null,
      "outputs": []
    },
    {
      "cell_type": "code",
      "metadata": {
        "id": "2vYsHGNpmvZP",
        "colab_type": "code",
        "colab": {}
      },
      "source": [
        ""
      ],
      "execution_count": null,
      "outputs": []
    }
  ]
}